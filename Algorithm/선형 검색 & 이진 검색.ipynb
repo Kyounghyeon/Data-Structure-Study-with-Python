{
 "cells": [
  {
   "cell_type": "markdown",
   "metadata": {},
   "source": [
    "# 선형 검색\n",
    "- 선형으로 늘어선 배열(array)에서 검색하는 경우 원하는 key값을 가진 원소를 찾을 때까지 **맨 앞부터** 차례대로 스캔\n",
    "- 검색에 성공하면 인덱스 반환, 실패하면 -1 반환"
   ]
  },
  {
   "cell_type": "code",
   "execution_count": 12,
   "metadata": {},
   "outputs": [
    {
     "name": "stdout",
     "output_type": "stream",
     "text": [
      "몇 개 넣을래? 5\n",
      "0번째 인덱스: ㄱ\n",
      "1번째 인덱스: ㄴ\n",
      "2번째 인덱스: ㄷ\n",
      "3번째 인덱스: ㄹ\n",
      "4번째 인덱스: ㅁ\n",
      "뭐 찾아볼래?ㅁ\n",
      "['ㄱ', 'ㄴ', 'ㄷ', 'ㄹ', 'ㅁ']에서찾는 원소는 4번째 인덱스에 있습니다.\n"
     ]
    }
   ],
   "source": [
    "from typing import Any, Sequence # 자료형을 명시하기 위해서 typing 모듈을 사용함\n",
    "\n",
    "def seq_search(a: Sequence, key: Any) -> int : \n",
    "    #함수를 정의할 건데, a는 sequence자료형 이어야 하고, key는 아무거나 돼, 그리고 int로 반환 할 거야\n",
    "    \n",
    "    for i in range(len(a)):\n",
    "        if a[i] == key:\n",
    "            return i\n",
    "    return -1\n",
    "a=[]\n",
    "num = int(input(\"몇 개 넣을래? \"))\n",
    "for i in range(num):\n",
    "    temp = input(f\"{i}번째 인덱스: \")\n",
    "    a.append(temp)\n",
    "key = input(\"뭐 찾아볼래?\")\n",
    "\n",
    "ans = seq_search(a, key)\n",
    "\n",
    "if ans == -1:\n",
    "    print(\"검색에 실패했습니다\")\n",
    "if ans != -1:\n",
    "    print(f\"{a}에서\", end = \" \")\n",
    "    print(f\"찾는 원소는 {ans}번째 인덱스에 있습니다.\")\n",
    "    \n"
   ]
  },
  {
   "cell_type": "markdown",
   "metadata": {},
   "source": [
    "# 선형 검색 - 보초법\n",
    "- 선형 검색 대상인 배열 맨 끝에 보초를 세워서 서로 독립적인 if문 두개를 사용한 비교말고, if문 한 개를 사용한 연속적인 비교로만 검색하는 법\n",
    "- 보초법을 사용하지 않은 선형 검색 & while문을 사용했을 때보다 비교 횟수 절반으로 줄어듦"
   ]
  },
  {
   "cell_type": "code",
   "execution_count": 18,
   "metadata": {},
   "outputs": [
    {
     "name": "stdout",
     "output_type": "stream",
     "text": [
      "몇 개 넣을래? 5\n",
      "0번째 인덱스: ㄱ\n",
      "1번째 인덱스: ㄴ\n",
      "2번째 인덱스: ㄷ\n",
      "3번째 인덱스: ㄹ\n",
      "4번째 인덱스: ㅁ\n",
      "뭐 찾아볼래?ㅁ\n",
      "찾는 원소는 4번째 인덱스에 있음\n"
     ]
    }
   ],
   "source": [
    "from typing import Any, Sequence # 자료형을 명시하기 위해서 typing 모듈을 사용함\n",
    "\n",
    "def seq_search2(a: Sequence, key: Any) -> int : \n",
    "    #함수를 정의할 건데, a는 sequence자료형 이어야 하고, key는 아무거나 돼, 그리고 int로 반환 할 거야\n",
    "    \n",
    "    a.append(key) # 맨 끝에 보초를 세움\n",
    "    i = 0\n",
    "    while True: # \n",
    "        if a[i] == key:\n",
    "            break\n",
    "        i+=1\n",
    "    return -1 if i == len(a) else i\n",
    "    \n",
    "a=[]    \n",
    "num = int(input(\"몇 개 넣을래? \"))\n",
    "\n",
    "for i in range(num):\n",
    "    temp = input(f\"{i}번째 인덱스: \")\n",
    "    a.append(temp)\n",
    "\n",
    "key = input(\"뭐 찾아볼래?\")\n",
    "\n",
    "if seq_search2(a, key) == len(a)-1:\n",
    "    print(\"검색 실패\")\n",
    "else:\n",
    "    print(f\"찾는 원소는 {seq_search2(a, key)}번째 인덱스에 있음\")\n",
    "\n",
    "    \n"
   ]
  },
  {
   "cell_type": "markdown",
   "metadata": {},
   "source": [
    "# 선형 검색 특징\n",
    "- 원소릐 값이 정렬되지 않은 배열에서 검색할 때 사용하는 유일한 방법"
   ]
  },
  {
   "cell_type": "markdown",
   "metadata": {},
   "source": [
    "# 이진 검색\n",
    "- 바이너리 서치\n",
    "- 정렬되어 있을 때 효과적임\n",
    "- 정렬하는 데에 드는 비용도 고려해야 함 "
   ]
  },
  {
   "cell_type": "code",
   "execution_count": 35,
   "metadata": {
    "scrolled": true
   },
   "outputs": [
    {
     "name": "stdout",
     "output_type": "stream",
     "text": [
      "몇 개 넣을래? 10\n",
      "0번째 인덱스: 0\n",
      "1번째 인덱스: 10\n",
      "2번째 인덱스: 20\n",
      "3번째 인덱스: 40\n",
      "4번째 인덱스: 506\n",
      "5번째 인덱스: 700\n",
      "6번째 인덱스: 800\n",
      "7번째 인덱스: 900\n",
      "8번째 인덱스: 1001\n",
      "9번째 인덱스: 1400\n",
      "뭐 찾아볼래?900\n",
      "찾는 원소는 7번째 인덱스에 있음\n"
     ]
    }
   ],
   "source": [
    "import math\n",
    "from typing import Any, Sequence\n",
    "\n",
    "def bin_search(seq: Sequence, key: Any) -> int:\n",
    "    # sequence는 정렬되어 있어야 함 무조건\n",
    "    # 전체 시퀀스는 고정되어 있어야 하고, 인덱스가 변해야함 \n",
    "    \n",
    "    start = 0\n",
    "    end = len(seq)-1\n",
    "    \n",
    "    while True:\n",
    "        \n",
    "        mid_idx = math.floor((start+end)/2) # 중간값 인덱스\n",
    "    \n",
    "        if key == seq[mid_idx]:\n",
    "            return mid_idx\n",
    "        \n",
    "        elif key < seq[mid_idx]:\n",
    "            end = mid_idx - 1\n",
    "        \n",
    "        else:  \n",
    "            start = mid_idx+1\n",
    "            \n",
    "    \n",
    " \n",
    "\n",
    "a=[]    \n",
    "num = int(input(\"몇 개 넣을래? \"))\n",
    "\n",
    "for i in range(num):\n",
    "    temp = input(f\"{i}번째 인덱스: \")\n",
    "    a.append(temp)\n",
    "\n",
    "key = input(\"뭐 찾아볼래?\")\n",
    "\n",
    "print(f\"찾는 원소는 {bin_search(a, key)}번째 인덱스에 있음\")\n",
    "\n",
    "     "
   ]
  }
 ],
 "metadata": {
  "kernelspec": {
   "display_name": "Python 3",
   "language": "python",
   "name": "python3"
  },
  "language_info": {
   "codemirror_mode": {
    "name": "ipython",
    "version": 3
   },
   "file_extension": ".py",
   "mimetype": "text/x-python",
   "name": "python",
   "nbconvert_exporter": "python",
   "pygments_lexer": "ipython3",
   "version": "3.8.5"
  }
 },
 "nbformat": 4,
 "nbformat_minor": 4
}
