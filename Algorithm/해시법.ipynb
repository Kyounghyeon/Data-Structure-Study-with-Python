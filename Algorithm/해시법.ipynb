{
 "cells": [
  {
   "cell_type": "markdown",
   "metadata": {},
   "source": [
    "# 해시법(hashing)\n",
    "- 검색과 더불어 데이터의 추가 및 삭제도 효율적으로 가능한 방법\n",
    "- 데이터를 저장할 위치(인덱스)를 구하는 연산 방법"
   ]
  },
  {
   "cell_type": "markdown",
   "metadata": {},
   "source": [
    "## 해시법이란"
   ]
  },
  {
   "cell_type": "markdown",
   "metadata": {},
   "source": [
    "**해시값(hash value)**\n",
    "> 배열 내의 값을 원소 개수로 나눈 나머지를 해시값이라고 함\n",
    "\n",
    "\n",
    "    \n",
    "|**인덱스**|0|1|2|3|4|5|6|7|8|9|10|11|12|    \n",
    "|-|-|-|-|-|-|-|-|-|-|-|-|-|-|  \n",
    "|**기존배열**|5|6|14|20|29|34|37|51|69|75|-|-|-|  \n",
    "|**해시값**|5|6|1|7|3|8|11|12|4|10|-|-|-|  \n",
    "\n",
    "총 13개의 원소를 가지는 배열에 10개의 값이 들어있다고 할 때, 해시값은 위와 같이 각각의 원소를 총 원소의 개수 13으로 나눈 나머지가 된다.\n",
    "    "
   ]
  },
  {
   "cell_type": "markdown",
   "metadata": {},
   "source": [
    "해시값이 새로운 배열의 인덱스와 같다. 아래를 보면 이해 가능.\n",
    "\n",
    "<center>  \n",
    "hash table \n",
    "<center>  \n",
    "\n",
    "|**인덱스**|0|1|2|3|4|5|6|7|8|9|10|11|12|    \n",
    "|-|-|-|-|-|-|-|-|-|-|-|-|-|-|   \n",
    "|**해시배열**|-|14|-|29|69|5|6|20|34|-|75|37|51|"
   ]
  },
  {
   "cell_type": "markdown",
   "metadata": {},
   "source": [
    "설명하자면, 해시배열에서 **x[1]은 14**이다. **14%13 = 1** 이기 때문.  \n",
    "같은 이유로 **34%13 = 8이기 때문에 x[8] = 34**이다."
   ]
  },
  {
   "cell_type": "markdown",
   "metadata": {},
   "source": [
    "여기서 만약 35를 새롭게 추가하고자 한다면, 해시법을 사용하여 추가할 수 있다.  \n",
    "**35 % 13 = 9 이므로, x[9] = 35가 된다.**"
   ]
  },
  {
   "cell_type": "markdown",
   "metadata": {},
   "source": [
    "## 해시법에서의 충돌"
   ]
  },
  {
   "cell_type": "markdown",
   "metadata": {},
   "source": [
    "**충돌(collision)**\n",
    "> 하나의 해시값에 대해 여러 키가 중첩되는 경우를 충돌이 발생했다고 함.\n",
    "\n",
    "<p>\n",
    "예를 들어서, 총 원소의 개수가 20인 배열에서, 원소 `1`과 `21`은 동일한 해시값 `1`을 가지므로 해시법을 사용했을 때 충돌이 발생할 수 있음.\n"
   ]
  },
  {
   "cell_type": "markdown",
   "metadata": {},
   "source": [
    "## 충돌 대처법\n",
    "1. 체인법: 해시값이 같은 원소를 연결 리스트로 관리함\n",
    "2. 오픈 주소법: 빈 버킷을 찾을 때까지 해시를 반복함"
   ]
  },
  {
   "cell_type": "markdown",
   "metadata": {},
   "source": [
    "### 체인법\n",
    "\n",
    "`Node` 클래스 : 값을 담는 bucket 형태\n",
    "- key, value, next 값으로 구성\n",
    "- next는 다음 노드를 참조하는 단일 연결 리스트 형태\n",
    "\n",
    "`ChainedHash` 클래스: 해시법 with 체인법 \n",
    "\n",
    "- `hash_value(key)` : 해시값 구하기\n",
    " - key에 해당하는 해시값을 반환함  \n",
    "\n",
    "- `search(key)` : key인 원소 검색   \n",
    " - key의 해시값을 구한다   \n",
    " - 해시값에 해당하는 Node(bucket)를 찾아 key 값이 나올때까지 탐색한다.\n",
    " - 끝까지 못찾는다면 key값이 해시 테이블 안에 없는 것임.  \n",
    "\n",
    "- `add(key, value)` : key와 값이 value인 원소를 추가\n",
    " - key에 해당하는 해시값을 구한다\n",
    " - 해시값에 해당하는 원소에 집중하여 노드의 끝 지점을 찾는다.\n",
    " - 만약 같은 key 값이 있다면 추가 실패를, 노드의 끝 지점을 찾았다면, 추가 성공임을 반환한다.  \n",
    "\n",
    "- `remove(key)` : 키가 key인 원소를 삭제\n",
    " - key에 해당하는 해시값을 구한다\n",
    " - 해시값에 해당하는 원소에 집중하여 key를 갖고 있는 노드를 찾는다.\n",
    " - 노드를 찾는다면 노드를 삭제하고 바로 앞의 노드와 바로 뒤의 노드를 연결하고, 성공했음을 반환한다.\n",
    " - key값이 같은 원소가 없다면 실패했음을 반환한다.  \n",
    "\n",
    "- `dump()` : 현재의 해시 테이블 상황을 출력한다."
   ]
  },
  {
   "cell_type": "code",
   "execution_count": 46,
   "metadata": {},
   "outputs": [],
   "source": [
    "import hashlib\n",
    "\n",
    "# 노드 클래스 생성\n",
    "class Node:\n",
    "    \n",
    "    def __init__(self, key, value, next):\n",
    "        self.key = key\n",
    "        self.value = value\n",
    "        self.next = next\n",
    "\n",
    "\"\"\"체인법으로 해시 클래스 구현\"\"\"\n",
    "class ChainedHash:\n",
    "    \n",
    "    # 초기화\n",
    "    def __init__(self, length:int):\n",
    "        self.length = length # 배열의 총 길이 정의\n",
    "        self.table = [None] * self.length # 길이가 length인 빈 해시 테이블 생성\n",
    "        \n",
    "    # 해시값 구하기\n",
    "    def hash_value(self, key):\n",
    "        \n",
    "        if isinstance(key, int): # isinstance(a, int) : a가 int형이면 True 아니면 False 반환 \n",
    "            return key % self.length\n",
    "        \n",
    "        \"\"\"\n",
    "        key값은 정수가 아닐 수 있음. 이때 아래와 같은 함수로 byte문자열로 인코딩하고 16진수로 바꿔서 해시값을 구할 수 있음\n",
    "        \"\"\"\n",
    "        \n",
    "        return( int(hashlib.sha256(str(key).encode()).hexdigest(), 16) % self.length ) \n",
    "    \n",
    "    \n",
    "    # 삽입\n",
    "    def add(self, key, value):\n",
    "        \"\"\" 해시값 구하고, 해시값에 해당하는 노드에 추가함\"\"\"\n",
    "        hash = self.hash_value(key)\n",
    "        p = self.table[hash]\n",
    "        \n",
    "        while p is not None: # 비어있는 노드를 찾기 위해서 계속 탐색하는 과정\n",
    "            if p.key == key:  # 키 값이 같다 = 이미 있는 동일한 값이다 -> 종료\n",
    "                return False\n",
    "            p = p.next\n",
    "            \n",
    "        temp = Node(key, value, self.table[hash])\n",
    "        self.table[hash] = temp\n",
    "        return True\n",
    "        \n",
    "    \n",
    "    # 삭제\n",
    "    def remove(self, key):\n",
    "        hash = self.hash_value(key)\n",
    "        p = self.table[hash]\n",
    "        pp = None\n",
    "        \n",
    "        while p is not None: # 값이 존재하는 Node 에 한하여\n",
    "            if p.key == key:\n",
    "                if pp is None:\n",
    "                    self.table[hash] = p.next\n",
    "                else:\n",
    "                    pp.next = p.next\n",
    "                return True\n",
    "            pp = p\n",
    "            p = p.next\n",
    "        return False\n",
    "            \n",
    "    # 검색\n",
    "    def search(self, key):\n",
    "        \"\"\" 해시값 구하고, 해시값에 해당하는 노드에서 key가 나올 때까지 탐색함. 없다면 없다고 출력 \"\"\"\n",
    "        hash = self.hash_value(key) # 해시값 구하기\n",
    "        p = self.table[hash] # 해시값에 해당하는 노드 선택\n",
    "        \n",
    "        while p is not None: # 끝까지 탐색\n",
    "            if p.key == key:  # 찾기 성공\n",
    "                return p.value \n",
    "            p = p.next # 못찾으면 다음 노드 탐색\n",
    "        \n",
    "        return None # while문을 탈출 = 찾기 실패\n",
    "            \n",
    "        \n",
    "    # 출력\n",
    "    def dump(self):\n",
    "        for i in range(self.length):\n",
    "            p = self.table[i]\n",
    "            print(i, end = \"\")\n",
    "            while p is not None:\n",
    "                print(f\" -> {p.key}:{p.value}\", end = \"\")\n",
    "                p = p.next\n",
    "            print()\n",
    "        \n",
    "        \n",
    "        "
   ]
  },
  {
   "cell_type": "markdown",
   "metadata": {},
   "source": [
    "- `sha256` 알고리즘: 주어진 바이트 문자열의 해시값을 구하는 해시 알고리즘의 생성자.\n",
    "- `sha256`에 인풋값으로 바이트 문자열을 집어넣기 위해서 `str`자료형으로 바꾸고 `encode()`로 인코딩해줌\n",
    "- `sha256`의 아웃풋(해시값)을 `hexdigest()`를 이용해 16진수로 바꿈"
   ]
  },
  {
   "cell_type": "code",
   "execution_count": 47,
   "metadata": {},
   "outputs": [
    {
     "data": {
      "text/plain": [
       "True"
      ]
     },
     "execution_count": 47,
     "metadata": {},
     "output_type": "execute_result"
    }
   ],
   "source": [
    "chained_hash = ChainedHash(10)\n",
    "chained_hash.add(10, 8)\n",
    "chained_hash.add(15,\"z\")\n",
    "chained_hash.add(11,\"t\")\n",
    "chained_hash.add(12,\"e\")\n",
    "chained_hash.add(13,\"f\")\n",
    "chained_hash.add(14,\"d\")\n",
    "chained_hash.add(25,\"c\")\n",
    "chained_hash.add(16,\"b\")\n",
    "chained_hash.add(17,\"a\")"
   ]
  },
  {
   "cell_type": "code",
   "execution_count": 48,
   "metadata": {},
   "outputs": [
    {
     "name": "stdout",
     "output_type": "stream",
     "text": [
      "0 -> 10:8\n",
      "1 -> 11:t\n",
      "2 -> 12:e\n",
      "3 -> 13:f\n",
      "4 -> 14:d\n",
      "5 -> 25:c -> 15:z\n",
      "6 -> 16:b\n",
      "7 -> 17:a\n",
      "8\n",
      "9\n"
     ]
    }
   ],
   "source": [
    "chained_hash.dump()"
   ]
  },
  {
   "cell_type": "code",
   "execution_count": 49,
   "metadata": {},
   "outputs": [
    {
     "data": {
      "text/plain": [
       "True"
      ]
     },
     "execution_count": 49,
     "metadata": {},
     "output_type": "execute_result"
    }
   ],
   "source": [
    "chained_hash.remove(25)"
   ]
  },
  {
   "cell_type": "code",
   "execution_count": 50,
   "metadata": {},
   "outputs": [
    {
     "name": "stdout",
     "output_type": "stream",
     "text": [
      "0 -> 10:8\n",
      "1 -> 11:t\n",
      "2 -> 12:e\n",
      "3 -> 13:f\n",
      "4 -> 14:d\n",
      "5 -> 15:z\n",
      "6 -> 16:b\n",
      "7 -> 17:a\n",
      "8\n",
      "9\n"
     ]
    }
   ],
   "source": [
    "chained_hash.dump()"
   ]
  }
 ],
 "metadata": {
  "kernelspec": {
   "display_name": "Python 3",
   "language": "python",
   "name": "python3"
  },
  "language_info": {
   "codemirror_mode": {
    "name": "ipython",
    "version": 3
   },
   "file_extension": ".py",
   "mimetype": "text/x-python",
   "name": "python",
   "nbconvert_exporter": "python",
   "pygments_lexer": "ipython3",
   "version": "3.8.5"
  }
 },
 "nbformat": 4,
 "nbformat_minor": 4
}
