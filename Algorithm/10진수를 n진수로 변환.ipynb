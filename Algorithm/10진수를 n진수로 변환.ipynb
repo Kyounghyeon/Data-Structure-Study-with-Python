{
 "cells": [
  {
   "cell_type": "markdown",
   "metadata": {},
   "source": [
    "## 10진수를 입력 받아 n 진수로 변환하는 알고리즘\n",
    "- n 은 최대 16\n",
    "- 여러번 나누기해서 몫이랑 나머지 둘 다 구해야 함\n",
    "- 최종 출력은 문자열\n",
    "- 몇 진수 표현인지 표시할 것"
   ]
  },
  {
   "cell_type": "code",
   "execution_count": 31,
   "metadata": {},
   "outputs": [],
   "source": [
    "def change_decimal():\n",
    "    \n",
    "    # input 값 받기\n",
    "    dec = int(input(\"변환할 10진수? \"))\n",
    "    n = int(input(\"몇 진수로 변환? \"))\n",
    "    while n > 16 or n < 2:\n",
    "        print(\"2진수부터 16진수까지 변환 가능합니다.\")\n",
    "        n = int(input(\"몇 진수로 변환?\"))\n",
    "    \n",
    "    # 최대 16진수까지 변환할 수 있으니까 0~F까지 리스트 생성\n",
    "    char_list = [0,1,2,3,4,5,6,7,8,9,\"A\",\"B\",\"C\",\"D\",\"E\",\"F\"]\n",
    "    \n",
    "    # 입력 받은 n진수까지만 사용할 거니까 슬라이싱\n",
    "    char_list = char_list[:(n-1)]\n",
    "    \n",
    "    # 초기값 설정\n",
    "    q = dec\n",
    "    answer = \"\"\n",
    "    # 몫이 0이 될 때까지 반복\n",
    "    while q != 0:\n",
    "        \n",
    "        rest = q % n # 나머지\n",
    "        q = q // n   # 몫\n",
    "        \n",
    "        answer = str(char_list[rest]) + answer\n",
    "        \n",
    "    print(f\"{dec}을 {n}진수로 표현하면 {answer}입니다.\")"
   ]
  },
  {
   "cell_type": "code",
   "execution_count": 7,
   "metadata": {},
   "outputs": [
    {
     "name": "stdout",
     "output_type": "stream",
     "text": [
      "변환할 10진수? 100\n",
      "몇 진수로 변환? 8\n",
      "100을 8진수로 표현하면 144입니다.\n"
     ]
    }
   ],
   "source": [
    "change_decimal()"
   ]
  },
  {
   "cell_type": "code",
   "execution_count": 8,
   "metadata": {},
   "outputs": [
    {
     "name": "stdout",
     "output_type": "stream",
     "text": [
      "변환할 10진수? 4768\n",
      "몇 진수로 변환? 16\n",
      "4768을 16진수로 표현하면 12A0입니다.\n"
     ]
    }
   ],
   "source": [
    "change_decimal()"
   ]
  },
  {
   "cell_type": "markdown",
   "metadata": {},
   "source": [
    "## 10진수를 입력 받아 n 진수로 변환하는 알고리즘2\n",
    "- 과정까지 출력\n",
    "- n 은 최대 16\n",
    "- 여러번 나누기해서 몫이랑 나머지 둘 다 구해야 함\n",
    "- 최종 출력은 문자열\n",
    "- 몇 진수 표현인지 표시할 것"
   ]
  },
  {
   "cell_type": "code",
   "execution_count": 29,
   "metadata": {},
   "outputs": [],
   "source": [
    "def change_decimal2():\n",
    "    \n",
    "    # input 값 받기\n",
    "    dec = int(input(\"변환할 10진수? \"))\n",
    "    n = int(input(\"몇 진수로 변환? \"))\n",
    "    \n",
    "    while n > 16 or n < 2:\n",
    "        print(\"2진수부터 16진수까지 변환 가능합니다.\")\n",
    "        n = int(input(\"몇 진수로 변환?\"))\n",
    "    \n",
    "    # 최대 16진수까지 변환할 수 있으니까 0~F까지 리스트 생성\n",
    "    char_list = [0,1,2,3,4,5,6,7,8,9,\"A\",\"B\",\"C\",\"D\",\"E\",\"F\"]\n",
    "    \n",
    "    # 입력 받은 n진수까지만 사용할 거니까 슬라이싱\n",
    "    char_list = char_list[:(n-1)]\n",
    "    \n",
    "    # 초기값 설정\n",
    "    q = dec\n",
    "    answer = \"\"\n",
    "    print(f\"{n:>2} | {dec}\")\n",
    "    \n",
    "    # 몫이 0이 될 때까지 반복\n",
    "    while q != 0:\n",
    "        \n",
    "        rest = q % n # 나머지\n",
    "        \n",
    "        # 과정 print\n",
    "        print(\"   +------\")\n",
    "        print(f\"   |{q // n:>5} --> {char_list[rest]:>2}\")\n",
    "        \n",
    "        q = q // n   # 몫\n",
    "        \n",
    "        answer = str(char_list[rest]) + answer\n",
    "        \n",
    "    print(f\"{dec}을 {n}진수로 표현하면 {answer}입니다.\")"
   ]
  },
  {
   "cell_type": "code",
   "execution_count": 30,
   "metadata": {},
   "outputs": [
    {
     "name": "stdout",
     "output_type": "stream",
     "text": [
      "변환할 10진수? 100\n",
      "몇 진수로 변환? 8\n",
      " 8 | 100\n",
      "   +------\n",
      "   |   12 -->  4\n",
      "   +------\n",
      "   |    1 -->  4\n",
      "   +------\n",
      "   |    0 -->  1\n",
      "100을 8진수로 표현하면 144입니다.\n"
     ]
    }
   ],
   "source": [
    "change_decimal2()"
   ]
  },
  {
   "cell_type": "code",
   "execution_count": null,
   "metadata": {},
   "outputs": [],
   "source": [
    "def decimal_to_n():\n",
    "\t\n",
    "    dec = int(input(\"10진수 입력\")) # 입력 받을 10진수\n",
    "    n = int(input(\"몇 진수로 변환?(2에서 16사이의 값만 입력) \")) # 몇 진수로 변환할 건지 입력 받음\n",
    "    \n",
    "    char_list = \"0123456789ABCDEF\" # 최대 16진수 이므로 변환 시 사용할 문자열 저장\n",
    "    char_list = char_list[:n] # 입력 받은 n진수에 사용할 문자열만 슬라이싱\n",
    "    \n",
    "    q = dec # 몫 임시 저장\n",
    "    answer = \"\" # 출력할 n 진수, empty 변수\n",
    "    \n",
    "    while q != 0: # 몫이 0이 될 때까지 나눗셈 반복\n",
    "        \n",
    "        rest = q % n\n",
    "        q = q // n\n",
    "        \n",
    "        # 문자열로 변환하여 n진수 변환\n",
    "        answer = str(char_list[rest]) + answer\n",
    "\t\t\n",
    "    # 출력\n",
    "    print(f\"10진수 {dec}를 {n}진수로 변환하면 {answer}입니다.\")"
   ]
  },
  {
   "cell_type": "code",
   "execution_count": 21,
   "metadata": {},
   "outputs": [
    {
     "name": "stdout",
     "output_type": "stream",
     "text": [
      "10진수 입력100\n",
      "몇 진수로 변환?(2에서 16사이의 값만 입력) 8\n",
      "10진수 100를 8진수로 변환하면 144입니다.\n"
     ]
    }
   ],
   "source": [
    "decimal_to_n()"
   ]
  },
  {
   "cell_type": "code",
   "execution_count": 13,
   "metadata": {},
   "outputs": [
    {
     "data": {
      "text/plain": [
       "'0123456789ABCDEF'"
      ]
     },
     "execution_count": 13,
     "metadata": {},
     "output_type": "execute_result"
    }
   ],
   "source": [
    "char_list = \"0123456789ABCDEF\"\n",
    "char_list[:16]"
   ]
  }
 ],
 "metadata": {
  "kernelspec": {
   "display_name": "Python 3",
   "language": "python",
   "name": "python3"
  },
  "language_info": {
   "codemirror_mode": {
    "name": "ipython",
    "version": 3
   },
   "file_extension": ".py",
   "mimetype": "text/x-python",
   "name": "python",
   "nbconvert_exporter": "python",
   "pygments_lexer": "ipython3",
   "version": "3.8.5"
  }
 },
 "nbformat": 4,
 "nbformat_minor": 4
}
