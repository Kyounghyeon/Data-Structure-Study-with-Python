{
 "cells": [
  {
   "cell_type": "markdown",
   "metadata": {},
   "source": [
    "# 해시법 - 오픈 주소법\n",
    "자료를 추가 및 삭제, 검색 할 때 해시법을 사용하는 경우가 있음. \n",
    "해시법은 정해진 용량에 key-value로 일대일 대응된 자료를 저장할 때 주로 사용하는데, 일반적인(?) 해시법은 같은 해시값을 가진 key에 충돌 문제를 일으킴. 이때 이 충돌을 해결하려는 방안으로 체인법과 오픈주소법을 고려할 수 있는데, 체인법은 다른 코드를 참조하고 이 노트에서는 오픈 주소법을 다룸\n",
    "\n",
    "- 참고로 해시는 파이썬의 딕셔너리와 같음  \n",
    "\n",
    "## 오픈 주소법\n",
    "- 해시값 충돌이 발생했을 때 재해시(rehashing)하는 방법으로 빈 버킷을 찾는 과정을 재해시라고 함. \n",
    "- 재해시를 하는 방법은 여러가지가 있으며, 여기서는 선형 탐사법을 이용하여 재해시 함\n",
    "- 체인법에서는 같은 해시값을 가진 key값을 연결 리스트로 구현했다는 점에서 차이가 있음."
   ]
  },
  {
   "cell_type": "markdown",
   "metadata": {},
   "source": [
    "# 구현"
   ]
  },
  {
   "cell_type": "markdown",
   "metadata": {},
   "source": [
    "`OpenHash` Class \n",
    "- 검색 `search`\n",
    " - key에 해당하는 해시값을 구하고, 해당하는 bucket에 접근한다\n",
    " - 해당하는 bucket의 key와 찾고자 하는 key를 비교\n",
    " - 경우의수 1) 버킷이 비어 있으면 -> 일치하는 key가 없는 것임 (검색 실패).\n",
    " - 경우의수 2) 삭제 완료 or 이미 있음 ->  값을 비교\n",
    " - 경우의수 2-1) 재해시하면서 일치하는 key를 찾음 (검색 성공)\n",
    " - 경우의수 2-2) 재해시하지만 비어있는 버킷을 봄 (검색 실패)\n",
    " - 경우의수 2-3) 재해시하지만 다 차있거나, 삭제 완료이지만 일치하는 key가 없음 (검색 실패)\n",
    " \n",
    "- 추가 `add`\n",
    " - 이미 같은 key를 가진 버킷이 존재하면 추가 실패\n",
    " - 해시값과 그에 대응하는 버킷 주목\n",
    " - 주목된 버킷에 이미 값이 있다면, 재해시\n",
    " - 빈 버킷에 추가\n",
    " - 꽉 찼다면 추가 실패\n",
    " \n",
    "- 제거 `remove`\n",
    " - 같은 key값을 가진 버킷이 존재하지 않으면 제거 실패\n",
    " - 같은 key값을 가진 버킷을 선형탐색\n",
    " - 제거\n",
    "\n",
    "- 출력 `dump`"
   ]
  },
  {
   "cell_type": "code",
   "execution_count": 59,
   "metadata": {},
   "outputs": [],
   "source": [
    "import hashlib\n",
    "from typing import Any, Type\n",
    "\n",
    "# 버킷의 상태 클래스\n",
    "class Status:\n",
    "    \n",
    "    OCCUPIED = 0\n",
    "    EMPTY = 1\n",
    "    DELETED = 2\n",
    "\n",
    "# 버킷 클래스\n",
    "class Bucket:\n",
    "    \n",
    "    def __init__(self, key: Any = None, value: Any = None, stat: Status = Status.EMPTY):\n",
    "        self.key = key\n",
    "        self.value = value\n",
    "        self.stat = stat\n",
    "    \n",
    "    \n",
    "    def set(self, key, value, stat: Status):\n",
    "        self.key = key\n",
    "        self.value = value\n",
    "        self.stat = stat\n",
    "        \n",
    "    def set_status(self, stat: Status):\n",
    "        self.stat = stat\n",
    "        \n",
    "\n",
    "        \n",
    "\n",
    "# 선형 검색을 이용한 해시\n",
    "class OpenHash:\n",
    "    \n",
    "    # 초기화\n",
    "    def __init__(self, length):\n",
    "        self.length = length\n",
    "        self.hash_table = [Bucket()] * self.length # 버킷의 초기 상태: all 비어있음(EMPTY)\n",
    "        \n",
    "    # 해시값\n",
    "    def hash_value(self, key):\n",
    "        self.key = key\n",
    "        if isinstance(self.key, int):\n",
    "            return self.key % self.length\n",
    "        else:\n",
    "            return int(hashlib.sha256(str(key).encode()).hexdigest(), 16) % self.length\n",
    "    \n",
    "    # 선형 탐사를 위한 재해시값\n",
    "    def rehash_value(self,key):\n",
    "        return (self.hash_value(key) + 1) % self.length \n",
    "    \n",
    "    # 검색\n",
    "    def search(self, key):\n",
    "        hash_value = self.hash_value(key) # 해시값 저장\n",
    "        bucket = self.hash_table[hash_value] # 맨처음 볼 버킷\n",
    "        \n",
    "        for i in range(self.length):\n",
    "            if key == bucket.key:\n",
    "                return bucket\n",
    "            \n",
    "            if bucket.stat == Status.EMPTY:\n",
    "                return False\n",
    "                \n",
    "            hash_value = self.rehash_value(hash_value) # 선형탐색\n",
    "            bucket = self.hash_table[hash_value] # 재해시\n",
    "            \n",
    "    def search_value(self, key):\n",
    "        bucket = self.search(key)\n",
    "        if bucket != False:\n",
    "            return bucket.value\n",
    "        \n",
    "        return None\n",
    "            \n",
    "    # 추가\n",
    "    def add(self,key,value):\n",
    "      \n",
    "        if self.search(key) != False: # 동일한 key값이 존재하지 않는 경우에 추가할 수 있음\n",
    "            return False\n",
    "\n",
    "        hash_value = self.hash_value(key) # 해시값\n",
    "        bucket = self.hash_table[hash_value] # 해시값에 해당하는 버킷\n",
    "        \n",
    "        for i in range(self.length):\n",
    "            if bucket.stat == Status.EMPTY or bucket.stat == Status.DELETED: # 버킷이 비어있다면 추가\n",
    "                self.hash_table[hash_value] = Bucket(key, value, Status.OCCUPIED)\n",
    "                return True\n",
    "            \n",
    "            hash_value = self.rehash_value(key) # 안비어있으면 재해시\n",
    "            bucket = self.hash_table[hash_value]\n",
    "            \n",
    "        return False\n",
    "    \n",
    "    # 제거\n",
    "    def remove(self,key):\n",
    "        bucket = self.search(key)\n",
    "        if bucket == False: # Fasle -> 동일한 key값이 없음 -> 제거 불가\n",
    "            return False\n",
    "        \n",
    "        bucket.set(None, None, Status.DELETED)\n",
    "        return True    \n",
    "    "
   ]
  },
  {
   "cell_type": "code",
   "execution_count": 60,
   "metadata": {},
   "outputs": [],
   "source": [
    "openhash = OpenHash(5)"
   ]
  },
  {
   "cell_type": "code",
   "execution_count": 61,
   "metadata": {},
   "outputs": [
    {
     "data": {
      "text/plain": [
       "True"
      ]
     },
     "execution_count": 61,
     "metadata": {},
     "output_type": "execute_result"
    }
   ],
   "source": [
    "openhash.add(5,10)"
   ]
  },
  {
   "cell_type": "code",
   "execution_count": 62,
   "metadata": {},
   "outputs": [
    {
     "data": {
      "text/plain": [
       "10"
      ]
     },
     "execution_count": 62,
     "metadata": {},
     "output_type": "execute_result"
    }
   ],
   "source": [
    "openhash.search_value(5)"
   ]
  },
  {
   "cell_type": "code",
   "execution_count": 63,
   "metadata": {},
   "outputs": [
    {
     "data": {
      "text/plain": [
       "False"
      ]
     },
     "execution_count": 63,
     "metadata": {},
     "output_type": "execute_result"
    }
   ],
   "source": [
    "openhash.add(5,11)"
   ]
  },
  {
   "cell_type": "code",
   "execution_count": 64,
   "metadata": {},
   "outputs": [
    {
     "data": {
      "text/plain": [
       "True"
      ]
     },
     "execution_count": 64,
     "metadata": {},
     "output_type": "execute_result"
    }
   ],
   "source": [
    "openhash.remove(5)"
   ]
  },
  {
   "cell_type": "code",
   "execution_count": 65,
   "metadata": {},
   "outputs": [],
   "source": [
    "openhash.search_value(5)"
   ]
  },
  {
   "cell_type": "markdown",
   "metadata": {},
   "source": [
    "`OpenHash` Class \n",
    "- 버킷 검색 `search_bucket`\n",
    " - key에 해당하는 해시값을 구하고, 해당하는 bucket에 접근한다\n",
    " - 해당하는 bucket의 key와 찾고자 하는 key를 비교\n",
    " - 경우의수 1) 버킷이 비어 있으면 -> 일치하는 key가 없는 것임 (검색 실패).\n",
    " - 경우의수 2) 삭제 완료 or 이미 있음 ->  값을 비교\n",
    " - 경우의수 2-1) 재해시하면서 일치하는 key를 찾음 (검색 성공)\n",
    " - 경우의수 2-2) 재해시하지만 비어있는 버킷을 봄 (검색 실패)\n",
    " - 경우의수 2-3) 재해시하지만 다 차있거나, 삭제 완료이지만 일치하는 key가 없음 (검색 실패)\n",
    " \n",
    "- 밸류 검색 `search_value`\n",
    " - `search_bucket`에서 구한 버킷이 차 있으면 그 버킷의 value 출력\n",
    " \n",
    "- 추가 `add`\n",
    " - 이미 같은 key를 가진 버킷이 존재하면 추가 실패\n",
    " - 해시값과 그에 대응하는 버킷 주목\n",
    " - 주목된 버킷에 이미 값이 있다면, 재해시\n",
    " - 빈 버킷에 추가\n",
    " - 꽉 찼다면 추가 실패\n",
    " \n",
    "- 제거 `remove`\n",
    " - 같은 key값을 가진 버킷이 존재하지 않으면 제거 실패\n",
    " - 같은 key값을 가진 버킷을 선형탐색\n",
    " - 제거\n",
    "\n",
    "- 출력 `dump`"
   ]
  },
  {
   "cell_type": "code",
   "execution_count": 67,
   "metadata": {},
   "outputs": [],
   "source": [
    "import hashlib\n",
    "\n",
    "class Status:\n",
    "    \n",
    "        EMPTY = 0\n",
    "        OCCUPIED = 1\n",
    "        DELETED = 2\n",
    "\n",
    "        \n",
    "class Bucket:\n",
    "    \n",
    "    def __init__(self, key = None, value = None, stat = Status.EMPTY):\n",
    "        self.key = key\n",
    "        self.value = value\n",
    "        self.stat = stat\n",
    "        \n",
    "    def set(self, key, value, stat: Status):\n",
    "        self.key = key\n",
    "        self.value = value\n",
    "        self.stat = stat\n",
    "        \n",
    "\n",
    "class OpenHash:\n",
    "    \n",
    "    # 빈 버킷 생성\n",
    "    def __init__(self, length):\n",
    "        self.length = length\n",
    "        self.table = [Bucket()] * self.length\n",
    "        \n",
    "    # 해시값 구하기\n",
    "    def hash(self, key):\n",
    "        if isinstance(key, int):\n",
    "            return key % self.length\n",
    "        else:\n",
    "            return int( hashlib.sha256(str(key).encode()).hexdigest(), 16)  % self.length\n",
    "        \n",
    "    # 재해시\n",
    "    def rehash(self, key):\n",
    "        return (key+1) % self.length\n",
    "    \n",
    "    # 일치하는 key를 담은 버킷 검색\n",
    "    def search_bucket(self, key):\n",
    "        \n",
    "        # 해시값과 해시값에 대응하는 첫 버킷\n",
    "        hash = self.hash(key)\n",
    "        bucket = self.table[hash]\n",
    "        \n",
    "        # 전체 탐색 (중간에 찾으면 종료함)\n",
    "        for i in range(self.length):\n",
    "            if bucket.stat == Status.EMPTY:\n",
    "                return False\n",
    "            \n",
    "            # key와 일치하면 그 키를 담고 있는 버킷 출력\n",
    "            if bucket.key == key and bucket.stat == Status.OCCUPIED:\n",
    "                return bucket\n",
    "            \n",
    "            # 재해시\n",
    "            hash = self.rehash(hash)\n",
    "            bucket = self.table[hash]\n",
    "        \n",
    "        # 완전 탐색했음에도 일치하는 버킷 없음\n",
    "        return False\n",
    "            \n",
    "            \n",
    "    \n",
    "    # 일치하는 key에 대응하는 value 검색\n",
    "    def search_value(self, key):\n",
    "        bucket = self.search_bucket(key)\n",
    "        \n",
    "        if bucket == False:\n",
    "            return False\n",
    "        \n",
    "        return bucket.value\n",
    "        \n",
    "    # 추가\n",
    "    def add(self,key,value):\n",
    "        \n",
    "        hash = self.hash(key)\n",
    "        bucket_check = self.search_bucket(key)\n",
    "        bucket = self.table[hash]\n",
    "            \n",
    "        \n",
    "        # 일치하는 key가 없거나 삭제된 경우에만 추가 가능 \n",
    "        if bucket_check == False:\n",
    "            for i in range(self.length):\n",
    "                if bucket.stat == Status.EMPTY or bucket.stat == Status.DELETED:\n",
    "                    self.table[hash] = Bucket(key,value,Status.OCCUPIED)\n",
    "                    return True\n",
    "                else:\n",
    "                    # 이미 OCCUPIED된 상태이면 빈 공간 찾을 때 까지 재해시\n",
    "                    hash = self.rehash(hash)\n",
    "                    bucket = self.table[hash]\n",
    "            # 완전 탐색했는데도 추가 실패 = 꽉 차 있음\n",
    "            return \"FULL\"\n",
    "    \n",
    "    #제거    \n",
    "    def remove(self,key):\n",
    "        bucket = self.search_bucket(key)\n",
    "        if bucket != False:\n",
    "            bucket.set(bucket.key, bucket.value, Status.DELETED)\n",
    "            return True\n",
    "        return False\n",
    "    \n",
    "    # 출력\n",
    "    def dump(self):\n",
    "        for i in range(self.length):\n",
    "            bucket =  self.table[i]\n",
    "            if bucket.stat == Status.OCCUPIED:\n",
    "                print(f\"{i} | {bucket.key} : {bucket.value}\")\n",
    "                \n",
    "            elif bucket.stat == Status.DELETED:\n",
    "                print(f\"{i} | {bucket.key} : {bucket.value} - 삭제됨\")\n",
    "            elif bucket.stat == Status.EMPTY:\n",
    "                print(f\"{i} | -----미등록-----\")"
   ]
  },
  {
   "cell_type": "code",
   "execution_count": 68,
   "metadata": {},
   "outputs": [],
   "source": [
    "openhash = OpenHash(5)"
   ]
  },
  {
   "cell_type": "code",
   "execution_count": 69,
   "metadata": {},
   "outputs": [
    {
     "data": {
      "text/plain": [
       "False"
      ]
     },
     "execution_count": 69,
     "metadata": {},
     "output_type": "execute_result"
    }
   ],
   "source": [
    "openhash.search_bucket(\"경현\")"
   ]
  },
  {
   "cell_type": "code",
   "execution_count": 70,
   "metadata": {},
   "outputs": [
    {
     "data": {
      "text/plain": [
       "True"
      ]
     },
     "execution_count": 70,
     "metadata": {},
     "output_type": "execute_result"
    }
   ],
   "source": [
    "openhash.add(1,3)"
   ]
  },
  {
   "cell_type": "code",
   "execution_count": 71,
   "metadata": {},
   "outputs": [
    {
     "data": {
      "text/plain": [
       "True"
      ]
     },
     "execution_count": 71,
     "metadata": {},
     "output_type": "execute_result"
    }
   ],
   "source": [
    "openhash.add(\"경현\",3)"
   ]
  },
  {
   "cell_type": "code",
   "execution_count": 72,
   "metadata": {},
   "outputs": [
    {
     "name": "stdout",
     "output_type": "stream",
     "text": [
      "0 | -----미등록-----\n",
      "1 | 1 : 3\n",
      "2 | -----미등록-----\n",
      "3 | 경현 : 3\n",
      "4 | -----미등록-----\n"
     ]
    }
   ],
   "source": [
    "openhash.dump()"
   ]
  },
  {
   "cell_type": "code",
   "execution_count": 73,
   "metadata": {},
   "outputs": [
    {
     "data": {
      "text/plain": [
       "3"
      ]
     },
     "execution_count": 73,
     "metadata": {},
     "output_type": "execute_result"
    }
   ],
   "source": [
    "openhash.search_value(\"경현\")"
   ]
  },
  {
   "cell_type": "code",
   "execution_count": 74,
   "metadata": {},
   "outputs": [
    {
     "data": {
      "text/plain": [
       "True"
      ]
     },
     "execution_count": 74,
     "metadata": {},
     "output_type": "execute_result"
    }
   ],
   "source": [
    "openhash.remove(\"경현\")"
   ]
  },
  {
   "cell_type": "code",
   "execution_count": 75,
   "metadata": {},
   "outputs": [
    {
     "data": {
      "text/plain": [
       "False"
      ]
     },
     "execution_count": 75,
     "metadata": {},
     "output_type": "execute_result"
    }
   ],
   "source": [
    "openhash.search_value(\"경현\")"
   ]
  },
  {
   "cell_type": "code",
   "execution_count": 76,
   "metadata": {},
   "outputs": [
    {
     "name": "stdout",
     "output_type": "stream",
     "text": [
      "0 | -----미등록-----\n",
      "1 | 1 : 3\n",
      "2 | -----미등록-----\n",
      "3 | 경현 : 3 - 삭제됨\n",
      "4 | -----미등록-----\n"
     ]
    }
   ],
   "source": [
    "openhash.dump()"
   ]
  }
 ],
 "metadata": {
  "kernelspec": {
   "display_name": "Python 3",
   "language": "python",
   "name": "python3"
  },
  "language_info": {
   "codemirror_mode": {
    "name": "ipython",
    "version": 3
   },
   "file_extension": ".py",
   "mimetype": "text/x-python",
   "name": "python",
   "nbconvert_exporter": "python",
   "pygments_lexer": "ipython3",
   "version": "3.8.5"
  }
 },
 "nbformat": 4,
 "nbformat_minor": 4
}
