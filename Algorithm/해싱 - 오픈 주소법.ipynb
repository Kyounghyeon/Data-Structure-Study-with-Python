{
 "cells": [
  {
   "cell_type": "markdown",
   "metadata": {},
   "source": [
    "# 해시법 - 오픈 주소법\n",
    "자료를 추가 및 삭제, 검색 할 때 해시법을 사용하는 경우가 있음. \n",
    "해시법은 정해진 용량에 key-value로 일대일 대응된 자료를 저장할 때 주로 사용하는데, 일반적인(?) 해시법은 같은 해시값을 가진 key에 충돌 문제를 일으킴. 이때 이 충돌을 해결하려는 방안으로 체인법과 오픈주소법을 고려할 수 있는데, 체인법은 다른 코드를 참조하고 이 노트에서는 오픈 주소법을 다룸\n",
    "\n",
    "- 참고로 해시는 파이썬의 딕셔너리와 같음  \n",
    "\n",
    "## 오픈 주소법\n",
    "- 해시값 충돌이 발생했을 때 재해시(rehashing)하는 방법으로 빈 버킷을 찾는 과정을 재해시라고 함. \n",
    "- 재해시를 하는 방법은 여러가지가 있으며, 여기서는 선형 탐사법을 이용하여 재해시 함\n",
    "- 체인법에서는 같은 해시값을 가진 key값을 연결 리스트로 구현했다는 점에서 차이가 있음."
   ]
  },
  {
   "cell_type": "markdown",
   "metadata": {},
   "source": [
    "# 구현"
   ]
  },
  {
   "cell_type": "markdown",
   "metadata": {},
   "source": [
    "`OpenHash` Class \n",
    "- 추가 `add`  \n",
    " - d\n",
    "- 제거 `remove`\n",
    " - d\n",
    "- 검색 `search`\n",
    " - d\n",
    "- 출력 `dump`\n",
    " - d"
   ]
  },
  {
   "cell_type": "code",
   "execution_count": 1,
   "metadata": {},
   "outputs": [],
   "source": [
    "import hashlib\n",
    "\n",
    "# 버킷의 상태 클래스\n",
    "class Status:\n",
    "    \n",
    "    OCCUPIED = 0\n",
    "    EMPTY = 1\n",
    "    DELETED = 2\n",
    "\n",
    "# 버킷 클래스\n",
    "class Bucket:\n",
    "    \n",
    "    def __init__(self, key, value, stat: Status = Status.EMPTY):\n",
    "        self.key = key\n",
    "        self.value = value\n",
    "        self.stat = stat\n",
    "    \n",
    "    \n",
    "    def set(self, key, value, stat: Status):\n",
    "        self.key=key\n",
    "        self.value=value\n",
    "        self.stat=stat\n",
    "        \n",
    "\n",
    "        \n",
    "\n",
    "# 선형 검색을 이용한 해시\n",
    "class OpenHash:\n",
    "    \n",
    "    # 초기화\n",
    "    def __init__(self, length):\n",
    "        self.length = length\n",
    "        self.hash_table = [Bucket()] * self.length # 버킷의 초기 상태: all 비어있음(EMPTY)\n",
    "        \n",
    "    # 해시값\n",
    "    def hash_value(self, key):\n",
    "        self.key = key\n",
    "        if isinstance(self.key, int):\n",
    "            return self.key % self.length\n",
    "        else:\n",
    "            return int(hashlib.sha256(str(key).encode()).hexdigest(), 16) % self.length\n",
    "    \n",
    "    # 선형 탐사를 위한 재해시값\n",
    "    def rehash_value(self,key):\n",
    "        return (self.hash_value(key) + 1) % self.length \n",
    "    \n",
    "    # 검색\n",
    "    def search_bucket(self, key):\n",
    "        hash_value = hash_value(key) # key값의 해시값 저장\n",
    "        bucket = self.hash_table[hash_table] # 맨처음 볼 버킷\n",
    "        \n",
    "        for buc in range(self.length):\n",
    "            if bucket.stat == 1: # 비어있음\n",
    "                return None\n",
    "            elif bucket.stat == 0 and key bucket.key == key: # 값이 있고, key와 같으면\n",
    "                return bucket\n",
    "            \n",
    "            rehash = self.rehash_value(key)\n",
    "            bucket = self.hash_table[rehash] # 재해싱\n",
    "            \n",
    "    def search(self, key):\n",
    "        if self.search_bucket(key) is None:\n",
    "            return False\n",
    "        else:\n",
    "            return search_bucket(key)\n",
    "    \n",
    "    def add(self,key,value):\n",
    "        hash_value = hash_value(key)\n",
    "        rehash_value = rehash_value(key) \n",
    "        \n",
    "           \n",
    "            \n",
    "        \n",
    "    "
   ]
  }
 ],
 "metadata": {
  "kernelspec": {
   "display_name": "Python 3",
   "language": "python",
   "name": "python3"
  },
  "language_info": {
   "codemirror_mode": {
    "name": "ipython",
    "version": 3
   },
   "file_extension": ".py",
   "mimetype": "text/x-python",
   "name": "python",
   "nbconvert_exporter": "python",
   "pygments_lexer": "ipython3",
   "version": "3.8.5"
  }
 },
 "nbformat": 4,
 "nbformat_minor": 4
}
