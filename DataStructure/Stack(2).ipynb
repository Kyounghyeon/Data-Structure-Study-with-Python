{
 "cells": [
  {
   "cell_type": "markdown",
   "metadata": {},
   "source": [
    "시간이 지나서 다시 구현하는 스택"
   ]
  },
  {
   "cell_type": "markdown",
   "metadata": {},
   "source": [
    "**기능**\n",
    "1. 스택 배열을 stk에 저장, `__len__`으로 출력\n",
    "2. 스택 크기를 capacity에 저장\n",
    "3. 스택의 현재 크기를 ptr에 저장\n",
    "4. 스택이 비어 있는지\n",
    "5. 스택이 가득 차 있는지\n",
    "6. 데이터를 넣기\n",
    "7. 데이터를 빼내기\n",
    "8. 데이터 들여다보기\n",
    "9. 데이터 검색\n",
    "10. 데이터 개수\n",
    "11. 스택 모든 데이터 출력\n",
    "12. 예외처리 - 비어있음 Empty\n",
    "13. 예외처리 - 꽉 차 있음 Full\n"
   ]
  },
  {
   "cell_type": "code",
   "execution_count": 49,
   "metadata": {},
   "outputs": [],
   "source": [
    "class FixedStack:\n",
    "    \"\"\"고정 길이 스택 정의\"\"\"\n",
    "    \n",
    "    def Full(Exception):\n",
    "        \"\"\"예외 처리, 가득 차 있을 때\"\"\"\n",
    "        pass\n",
    "    \n",
    "    def Empty(Exception):\n",
    "        \"\"\"예외 처리, 비어 있을 때\"\"\"\n",
    "        pass\n",
    "    \n",
    "    def __init__(self, capacity):\n",
    "        self.stk = [None] * capacity\n",
    "        self.capacity = capacity\n",
    "        self.ptr = 0\n",
    "    \n",
    "    def __len__(self):\n",
    "        \"\"\" 현재 들어있는 데이터 개수 \"\"\"\n",
    "        return self.ptr\n",
    "        \n",
    "    def is_full(self):\n",
    "        \"\"\"가득 차 있는지\"\"\"\n",
    "        if self.ptr == self.capacity:\n",
    "            return True\n",
    "        else:\n",
    "            False\n",
    "    \n",
    "    def is_empty(self):\n",
    "        \"\"\"비어있는지\"\"\"\n",
    "        if self.ptr == 0:\n",
    "            return True\n",
    "        else: \n",
    "            False\n",
    "    \n",
    "    \n",
    "    def push(self, value):\n",
    "        \"\"\"데이터 넣기\"\"\"\n",
    "        if self.is_full(): \n",
    "            raise FixedStack.Full # 예외처리\n",
    "        self.stk[self.ptr] = value\n",
    "        self.ptr += 1\n",
    "    \n",
    "    def pop(self):\n",
    "        \"\"\"가장 위의 데이터 뽑기\"\"\"\n",
    "        if self.is_empty():\n",
    "            raise FixedStack.Empty # 예외처리\n",
    "        pop_value = self.stk[self.ptr-1]\n",
    "        self.ptr -= 1\n",
    "        self.stk[self.ptr] = None\n",
    "        return pop_value\n",
    "        \n",
    "    def peek(self):\n",
    "        \"\"\"가장 위의 데이터 출력(뽑지 않음)\"\"\"\n",
    "        if self.is_empty():\n",
    "            raise FixedStack.Empty # 예외처리\n",
    "        return self.stk[self.ptr-1] # ptr는 현재 데이터의 개수를 의미하므로 index로 뽑을 거면 -1 해줘야 함.\n",
    "    \n",
    "    def search(self, value):\n",
    "        \"\"\" value 검색. 있다면 인덱스 출력, 없다면 -1 출력\"\"\"\n",
    "        if self.is_empty():\n",
    "            raise FixedStack.Empty # 예외처리\n",
    "        for i in range(self.ptr, -1, -1):\n",
    "            if self.stk[i] == value:\n",
    "                return i\n",
    "        else:\n",
    "            return -1\n",
    "    \n",
    "    \n",
    "    def dump(self):\n",
    "        \"\"\"현재 전체 스택 구조 출력\"\"\"\n",
    "        for i in range(self.capacity):\n",
    "            if self.stk[i] == None:\n",
    "                print(f\"비어있음 --- {i+1}\")\n",
    "            else:\n",
    "                print(f\"{self.stk[i]} --- {i+1}\")\n",
    "    "
   ]
  },
  {
   "cell_type": "code",
   "execution_count": 50,
   "metadata": {},
   "outputs": [],
   "source": [
    "stack = FixedStack(10)"
   ]
  },
  {
   "cell_type": "code",
   "execution_count": 51,
   "metadata": {},
   "outputs": [],
   "source": [
    "stack.push(10)"
   ]
  },
  {
   "cell_type": "code",
   "execution_count": 52,
   "metadata": {},
   "outputs": [],
   "source": [
    "stack.push(\"경현\")"
   ]
  },
  {
   "cell_type": "code",
   "execution_count": 53,
   "metadata": {},
   "outputs": [],
   "source": [
    "stack.push(40)"
   ]
  },
  {
   "cell_type": "code",
   "execution_count": 54,
   "metadata": {},
   "outputs": [
    {
     "data": {
      "text/plain": [
       "[10, '경현', 40, None, None, None, None, None, None, None]"
      ]
     },
     "execution_count": 54,
     "metadata": {},
     "output_type": "execute_result"
    }
   ],
   "source": [
    "stack.stk"
   ]
  },
  {
   "cell_type": "code",
   "execution_count": 55,
   "metadata": {},
   "outputs": [
    {
     "data": {
      "text/plain": [
       "3"
      ]
     },
     "execution_count": 55,
     "metadata": {},
     "output_type": "execute_result"
    }
   ],
   "source": [
    "stack.ptr"
   ]
  },
  {
   "cell_type": "code",
   "execution_count": 56,
   "metadata": {},
   "outputs": [
    {
     "data": {
      "text/plain": [
       "40"
      ]
     },
     "execution_count": 56,
     "metadata": {},
     "output_type": "execute_result"
    }
   ],
   "source": [
    "stack.pop()"
   ]
  },
  {
   "cell_type": "code",
   "execution_count": 57,
   "metadata": {},
   "outputs": [
    {
     "data": {
      "text/plain": [
       "'경현'"
      ]
     },
     "execution_count": 57,
     "metadata": {},
     "output_type": "execute_result"
    }
   ],
   "source": [
    "stack.peek()"
   ]
  },
  {
   "cell_type": "code",
   "execution_count": 58,
   "metadata": {},
   "outputs": [
    {
     "data": {
      "text/plain": [
       "'경현'"
      ]
     },
     "execution_count": 58,
     "metadata": {},
     "output_type": "execute_result"
    }
   ],
   "source": [
    "stack.peek()"
   ]
  },
  {
   "cell_type": "code",
   "execution_count": 59,
   "metadata": {},
   "outputs": [
    {
     "name": "stdout",
     "output_type": "stream",
     "text": [
      "10 --- 1\n",
      "경현 --- 2\n",
      "비어있음 --- 3\n",
      "비어있음 --- 4\n",
      "비어있음 --- 5\n",
      "비어있음 --- 6\n",
      "비어있음 --- 7\n",
      "비어있음 --- 8\n",
      "비어있음 --- 9\n",
      "비어있음 --- 10\n"
     ]
    }
   ],
   "source": [
    "stack.dump()"
   ]
  },
  {
   "cell_type": "code",
   "execution_count": 60,
   "metadata": {},
   "outputs": [
    {
     "data": {
      "text/plain": [
       "2"
      ]
     },
     "execution_count": 60,
     "metadata": {},
     "output_type": "execute_result"
    }
   ],
   "source": [
    "len(stack)"
   ]
  },
  {
   "cell_type": "code",
   "execution_count": 61,
   "metadata": {},
   "outputs": [
    {
     "data": {
      "text/plain": [
       "1"
      ]
     },
     "execution_count": 61,
     "metadata": {},
     "output_type": "execute_result"
    }
   ],
   "source": [
    "stack.search(\"경현\")"
   ]
  },
  {
   "cell_type": "code",
   "execution_count": 62,
   "metadata": {},
   "outputs": [
    {
     "data": {
      "text/plain": [
       "0"
      ]
     },
     "execution_count": 62,
     "metadata": {},
     "output_type": "execute_result"
    }
   ],
   "source": [
    "stack.search(10)"
   ]
  },
  {
   "cell_type": "code",
   "execution_count": 63,
   "metadata": {},
   "outputs": [
    {
     "data": {
      "text/plain": [
       "-1"
      ]
     },
     "execution_count": 63,
     "metadata": {},
     "output_type": "execute_result"
    }
   ],
   "source": [
    "stack.search(100)"
   ]
  },
  {
   "cell_type": "code",
   "execution_count": 64,
   "metadata": {},
   "outputs": [],
   "source": [
    "stack.push(150)\n",
    "stack.push(150)\n",
    "stack.push(150)\n",
    "stack.push(150)"
   ]
  },
  {
   "cell_type": "code",
   "execution_count": 65,
   "metadata": {},
   "outputs": [
    {
     "name": "stdout",
     "output_type": "stream",
     "text": [
      "10 --- 1\n",
      "경현 --- 2\n",
      "150 --- 3\n",
      "150 --- 4\n",
      "150 --- 5\n",
      "150 --- 6\n",
      "비어있음 --- 7\n",
      "비어있음 --- 8\n",
      "비어있음 --- 9\n",
      "비어있음 --- 10\n"
     ]
    }
   ],
   "source": [
    "stack.dump()"
   ]
  },
  {
   "cell_type": "code",
   "execution_count": 66,
   "metadata": {},
   "outputs": [
    {
     "data": {
      "text/plain": [
       "6"
      ]
     },
     "execution_count": 66,
     "metadata": {},
     "output_type": "execute_result"
    }
   ],
   "source": [
    "len(stack)"
   ]
  },
  {
   "cell_type": "code",
   "execution_count": 67,
   "metadata": {},
   "outputs": [
    {
     "data": {
      "text/plain": [
       "150"
      ]
     },
     "execution_count": 67,
     "metadata": {},
     "output_type": "execute_result"
    }
   ],
   "source": [
    "stack.pop()"
   ]
  },
  {
   "cell_type": "code",
   "execution_count": 68,
   "metadata": {},
   "outputs": [
    {
     "data": {
      "text/plain": [
       "150"
      ]
     },
     "execution_count": 68,
     "metadata": {},
     "output_type": "execute_result"
    }
   ],
   "source": [
    "stack.pop()"
   ]
  },
  {
   "cell_type": "code",
   "execution_count": 69,
   "metadata": {},
   "outputs": [
    {
     "data": {
      "text/plain": [
       "150"
      ]
     },
     "execution_count": 69,
     "metadata": {},
     "output_type": "execute_result"
    }
   ],
   "source": [
    "stack.pop()"
   ]
  },
  {
   "cell_type": "code",
   "execution_count": 71,
   "metadata": {},
   "outputs": [
    {
     "data": {
      "text/plain": [
       "'경현'"
      ]
     },
     "execution_count": 71,
     "metadata": {},
     "output_type": "execute_result"
    }
   ],
   "source": [
    "stack.pop()"
   ]
  },
  {
   "cell_type": "code",
   "execution_count": 72,
   "metadata": {},
   "outputs": [
    {
     "data": {
      "text/plain": [
       "10"
      ]
     },
     "execution_count": 72,
     "metadata": {},
     "output_type": "execute_result"
    }
   ],
   "source": [
    "stack.pop()"
   ]
  },
  {
   "cell_type": "code",
   "execution_count": 73,
   "metadata": {},
   "outputs": [
    {
     "ename": "TypeError",
     "evalue": "exceptions must derive from BaseException",
     "output_type": "error",
     "traceback": [
      "\u001b[1;31m---------------------------------------------------------------------------\u001b[0m",
      "\u001b[1;31mTypeError\u001b[0m                                 Traceback (most recent call last)",
      "\u001b[1;32m<ipython-input-73-415460d3b717>\u001b[0m in \u001b[0;36m<module>\u001b[1;34m\u001b[0m\n\u001b[1;32m----> 1\u001b[1;33m \u001b[0mstack\u001b[0m\u001b[1;33m.\u001b[0m\u001b[0mpop\u001b[0m\u001b[1;33m(\u001b[0m\u001b[1;33m)\u001b[0m\u001b[1;33m\u001b[0m\u001b[1;33m\u001b[0m\u001b[0m\n\u001b[0m",
      "\u001b[1;32m<ipython-input-49-81b7307f9ba0>\u001b[0m in \u001b[0;36mpop\u001b[1;34m(self)\u001b[0m\n\u001b[0;32m     44\u001b[0m         \u001b[1;34m\"\"\"가장 위의 데이터 뽑기\"\"\"\u001b[0m\u001b[1;33m\u001b[0m\u001b[1;33m\u001b[0m\u001b[0m\n\u001b[0;32m     45\u001b[0m         \u001b[1;32mif\u001b[0m \u001b[0mself\u001b[0m\u001b[1;33m.\u001b[0m\u001b[0mis_empty\u001b[0m\u001b[1;33m(\u001b[0m\u001b[1;33m)\u001b[0m\u001b[1;33m:\u001b[0m\u001b[1;33m\u001b[0m\u001b[1;33m\u001b[0m\u001b[0m\n\u001b[1;32m---> 46\u001b[1;33m             \u001b[1;32mraise\u001b[0m \u001b[0mFixedStack\u001b[0m\u001b[1;33m.\u001b[0m\u001b[0mEmpty\u001b[0m \u001b[1;31m# 예외처리\u001b[0m\u001b[1;33m\u001b[0m\u001b[1;33m\u001b[0m\u001b[0m\n\u001b[0m\u001b[0;32m     47\u001b[0m         \u001b[0mpop_value\u001b[0m \u001b[1;33m=\u001b[0m \u001b[0mself\u001b[0m\u001b[1;33m.\u001b[0m\u001b[0mstk\u001b[0m\u001b[1;33m[\u001b[0m\u001b[0mself\u001b[0m\u001b[1;33m.\u001b[0m\u001b[0mptr\u001b[0m\u001b[1;33m-\u001b[0m\u001b[1;36m1\u001b[0m\u001b[1;33m]\u001b[0m\u001b[1;33m\u001b[0m\u001b[1;33m\u001b[0m\u001b[0m\n\u001b[0;32m     48\u001b[0m         \u001b[0mself\u001b[0m\u001b[1;33m.\u001b[0m\u001b[0mptr\u001b[0m \u001b[1;33m-=\u001b[0m \u001b[1;36m1\u001b[0m\u001b[1;33m\u001b[0m\u001b[1;33m\u001b[0m\u001b[0m\n",
      "\u001b[1;31mTypeError\u001b[0m: exceptions must derive from BaseException"
     ]
    }
   ],
   "source": [
    "stack.pop()"
   ]
  }
 ],
 "metadata": {
  "kernelspec": {
   "display_name": "Python 3",
   "language": "python",
   "name": "python3"
  },
  "language_info": {
   "codemirror_mode": {
    "name": "ipython",
    "version": 3
   },
   "file_extension": ".py",
   "mimetype": "text/x-python",
   "name": "python",
   "nbconvert_exporter": "python",
   "pygments_lexer": "ipython3",
   "version": "3.8.5"
  }
 },
 "nbformat": 4,
 "nbformat_minor": 4
}
