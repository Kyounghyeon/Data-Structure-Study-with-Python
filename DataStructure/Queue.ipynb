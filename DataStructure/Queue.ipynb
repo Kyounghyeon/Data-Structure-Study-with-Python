{
 "cells": [
  {
   "cell_type": "markdown",
   "metadata": {},
   "source": [
    "# 큐 (Queue)\n",
    "First In First Out (FIFO), 선입선출 구조"
   ]
  },
  {
   "cell_type": "markdown",
   "metadata": {},
   "source": [
    "**기능**\n",
    "1. enqueue 데이터 추가\n",
    "2. dequeue 데이터 pop\n",
    "3. 데이터를 꺼내는 쪽을 front, 넣는 쪽을 rear라고 부름\n",
    "4. 등등 원하는 것들 "
   ]
  },
  {
   "cell_type": "code",
   "execution_count": 91,
   "metadata": {},
   "outputs": [],
   "source": [
    "class FixedQueue:\n",
    "    \"\"\" 길이가 고정된 고정 큐 클래스 \"\"\"\n",
    "    \"\"\" 리스트(배열)을 이용해서 구현\"\"\"\n",
    "    \n",
    "    def Full(Exception):\n",
    "        pass\n",
    "    \n",
    "    def Empty(Exception):\n",
    "        pass\n",
    "    \n",
    "    def __init__(self, capacity):\n",
    "        self.capacity = capacity\n",
    "        self.que = [None] * capacity\n",
    "        self.front = 0\n",
    "        self.rear = 0\n",
    "        \n",
    "    def is_empty(self):\n",
    "        if self.que[self.front] == None:\n",
    "            return True\n",
    "        else:\n",
    "            return False\n",
    "        \n",
    "    def is_full(self):\n",
    "        if self.rear == self.capacity:\n",
    "            return True\n",
    "        else:\n",
    "            return False\n",
    "        \n",
    "    def enque(self, value):\n",
    "        \"\"\" 데이터 인큐 \"\"\"\n",
    "        if self.is_full():\n",
    "            raise FixedQueue.Full\n",
    "        \n",
    "        self.que[self.rear] = value\n",
    "        self.rear +=1\n",
    "        \n",
    "    def deque(self):\n",
    "        \"\"\" 데이터 디큐 \"\"\"\n",
    "        if self.is_empty():\n",
    "            raise FixedQueue.Empty\n",
    "            \n",
    "        pop = self.que[self.front]\n",
    "        for i in range(self.rear):\n",
    "            self.que[i] = self.que[i+1]\n",
    "        self.rear -= 1\n",
    "        return pop\n",
    "    \n",
    "    def peek(self):\n",
    "        \"\"\" 가장 앞에 있는 데이터 보기 \"\"\"\n",
    "        if self.is_empty():\n",
    "            raise FixedQueue.Empty\n",
    "            \n",
    "        return self.que[self.front]\n",
    "    \n",
    "    def search(self, value):\n",
    "        for i in range(self.rear-1, -1, -1):\n",
    "            if self.que[i] == value:\n",
    "                return i\n",
    "        else:\n",
    "            -1\n",
    "        \n",
    "    def __len__(self):\n",
    "        \"\"\" 현재 들어있는 데이터 개수 \"\"\"\n",
    "        return self.rear\n",
    "    \n",
    "    def dump(self):\n",
    "        \"\"\" 현재 큐 내용 출력 \"\"\"\n",
    "        if self.is_empty():\n",
    "            \n",
    "            for j in range(self.rear, self.capacity):\n",
    "                print(f\"{self.que[j]} -- index :{j}\")\n",
    "        \n",
    "        elif self.rear == 1:\n",
    "            \n",
    "            print(f\"{self.que[0]} -- front, rear\")\n",
    "            for j in range(self.rear, self.capacity):\n",
    "                print(f\"{self.que[j]} -- index :{j}\")\n",
    "        else:\n",
    "            \n",
    "            print(f\"{self.que[0]} -- front\")\n",
    "            for i in range(1, self.rear-1):\n",
    "                print(f\"{self.que[i]} -- index : {i}\")\n",
    "            \n",
    "            print(f\"{self.que[self.rear-1]} -- rear\")\n",
    "        \n",
    "            for j in range(self.rear, self.capacity):\n",
    "                print(f\"{self.que[j]} -- index :{j}\")\n",
    "            "
   ]
  },
  {
   "cell_type": "code",
   "execution_count": 72,
   "metadata": {},
   "outputs": [],
   "source": [
    "que = FixedQueue(10)"
   ]
  },
  {
   "cell_type": "code",
   "execution_count": 73,
   "metadata": {},
   "outputs": [],
   "source": [
    "que.enque(10)"
   ]
  },
  {
   "cell_type": "code",
   "execution_count": 74,
   "metadata": {},
   "outputs": [],
   "source": [
    "que.enque(100)"
   ]
  },
  {
   "cell_type": "code",
   "execution_count": 75,
   "metadata": {},
   "outputs": [],
   "source": [
    "que.enque(200)"
   ]
  },
  {
   "cell_type": "code",
   "execution_count": 76,
   "metadata": {},
   "outputs": [
    {
     "data": {
      "text/plain": [
       "1"
      ]
     },
     "execution_count": 76,
     "metadata": {},
     "output_type": "execute_result"
    }
   ],
   "source": [
    "que.search(100)"
   ]
  },
  {
   "cell_type": "code",
   "execution_count": 77,
   "metadata": {},
   "outputs": [
    {
     "data": {
      "text/plain": [
       "0"
      ]
     },
     "execution_count": 77,
     "metadata": {},
     "output_type": "execute_result"
    }
   ],
   "source": [
    "que.search(10)"
   ]
  },
  {
   "cell_type": "code",
   "execution_count": 78,
   "metadata": {},
   "outputs": [
    {
     "data": {
      "text/plain": [
       "0"
      ]
     },
     "execution_count": 78,
     "metadata": {},
     "output_type": "execute_result"
    }
   ],
   "source": [
    "que.front"
   ]
  },
  {
   "cell_type": "code",
   "execution_count": 79,
   "metadata": {},
   "outputs": [
    {
     "data": {
      "text/plain": [
       "3"
      ]
     },
     "execution_count": 79,
     "metadata": {},
     "output_type": "execute_result"
    }
   ],
   "source": [
    "que.rear"
   ]
  },
  {
   "cell_type": "code",
   "execution_count": 80,
   "metadata": {},
   "outputs": [
    {
     "data": {
      "text/plain": [
       "3"
      ]
     },
     "execution_count": 80,
     "metadata": {},
     "output_type": "execute_result"
    }
   ],
   "source": [
    "len(que)"
   ]
  },
  {
   "cell_type": "code",
   "execution_count": 81,
   "metadata": {},
   "outputs": [],
   "source": [
    "que.enque(\"바보\")"
   ]
  },
  {
   "cell_type": "code",
   "execution_count": 82,
   "metadata": {},
   "outputs": [
    {
     "name": "stdout",
     "output_type": "stream",
     "text": [
      "10 -- front\n",
      "100 -- index : 1\n",
      "200 -- index : 2\n",
      "바보 -- rear\n",
      "None -- index :4\n",
      "None -- index :5\n",
      "None -- index :6\n",
      "None -- index :7\n",
      "None -- index :8\n",
      "None -- index :9\n"
     ]
    }
   ],
   "source": [
    "que.dump()"
   ]
  },
  {
   "cell_type": "code",
   "execution_count": 83,
   "metadata": {},
   "outputs": [
    {
     "data": {
      "text/plain": [
       "10"
      ]
     },
     "execution_count": 83,
     "metadata": {},
     "output_type": "execute_result"
    }
   ],
   "source": [
    "que.deque()"
   ]
  },
  {
   "cell_type": "code",
   "execution_count": 84,
   "metadata": {},
   "outputs": [
    {
     "name": "stdout",
     "output_type": "stream",
     "text": [
      "100 -- front\n",
      "200 -- index : 1\n",
      "바보 -- rear\n",
      "None -- index :3\n",
      "None -- index :4\n",
      "None -- index :5\n",
      "None -- index :6\n",
      "None -- index :7\n",
      "None -- index :8\n",
      "None -- index :9\n"
     ]
    }
   ],
   "source": [
    "que.dump()"
   ]
  },
  {
   "cell_type": "code",
   "execution_count": 85,
   "metadata": {},
   "outputs": [
    {
     "data": {
      "text/plain": [
       "100"
      ]
     },
     "execution_count": 85,
     "metadata": {},
     "output_type": "execute_result"
    }
   ],
   "source": [
    "que.deque()"
   ]
  },
  {
   "cell_type": "code",
   "execution_count": 86,
   "metadata": {},
   "outputs": [
    {
     "name": "stdout",
     "output_type": "stream",
     "text": [
      "200 -- front\n",
      "바보 -- rear\n",
      "None -- index :2\n",
      "None -- index :3\n",
      "None -- index :4\n",
      "None -- index :5\n",
      "None -- index :6\n",
      "None -- index :7\n",
      "None -- index :8\n",
      "None -- index :9\n"
     ]
    }
   ],
   "source": [
    "que.dump()"
   ]
  },
  {
   "cell_type": "code",
   "execution_count": 87,
   "metadata": {},
   "outputs": [
    {
     "data": {
      "text/plain": [
       "200"
      ]
     },
     "execution_count": 87,
     "metadata": {},
     "output_type": "execute_result"
    }
   ],
   "source": [
    "que.deque()"
   ]
  },
  {
   "cell_type": "code",
   "execution_count": 88,
   "metadata": {},
   "outputs": [
    {
     "name": "stdout",
     "output_type": "stream",
     "text": [
      "바보 -- front, rear\n",
      "None -- index :1\n",
      "None -- index :2\n",
      "None -- index :3\n",
      "None -- index :4\n",
      "None -- index :5\n",
      "None -- index :6\n",
      "None -- index :7\n",
      "None -- index :8\n",
      "None -- index :9\n"
     ]
    }
   ],
   "source": [
    "que.dump()"
   ]
  },
  {
   "cell_type": "code",
   "execution_count": 89,
   "metadata": {},
   "outputs": [
    {
     "data": {
      "text/plain": [
       "'바보'"
      ]
     },
     "execution_count": 89,
     "metadata": {},
     "output_type": "execute_result"
    }
   ],
   "source": [
    "que.deque()"
   ]
  },
  {
   "cell_type": "code",
   "execution_count": 90,
   "metadata": {},
   "outputs": [
    {
     "ename": "TypeError",
     "evalue": "exceptions must derive from BaseException",
     "output_type": "error",
     "traceback": [
      "\u001b[1;31m---------------------------------------------------------------------------\u001b[0m",
      "\u001b[1;31mTypeError\u001b[0m                                 Traceback (most recent call last)",
      "\u001b[1;32m<ipython-input-90-68b6954d80c8>\u001b[0m in \u001b[0;36m<module>\u001b[1;34m\u001b[0m\n\u001b[1;32m----> 1\u001b[1;33m \u001b[0mque\u001b[0m\u001b[1;33m.\u001b[0m\u001b[0mdump\u001b[0m\u001b[1;33m(\u001b[0m\u001b[1;33m)\u001b[0m\u001b[1;33m\u001b[0m\u001b[1;33m\u001b[0m\u001b[0m\n\u001b[0m",
      "\u001b[1;32m<ipython-input-71-4a07bed9bb11>\u001b[0m in \u001b[0;36mdump\u001b[1;34m(self)\u001b[0m\n\u001b[0;32m     67\u001b[0m         \u001b[1;34m\"\"\" 현재 큐 내용 출력 \"\"\"\u001b[0m\u001b[1;33m\u001b[0m\u001b[1;33m\u001b[0m\u001b[0m\n\u001b[0;32m     68\u001b[0m         \u001b[1;32mif\u001b[0m \u001b[0mself\u001b[0m\u001b[1;33m.\u001b[0m\u001b[0mis_empty\u001b[0m\u001b[1;33m(\u001b[0m\u001b[1;33m)\u001b[0m\u001b[1;33m:\u001b[0m\u001b[1;33m\u001b[0m\u001b[1;33m\u001b[0m\u001b[0m\n\u001b[1;32m---> 69\u001b[1;33m             \u001b[1;32mraise\u001b[0m \u001b[0mFixedQueue\u001b[0m\u001b[1;33m.\u001b[0m\u001b[0mEmpty\u001b[0m\u001b[1;33m\u001b[0m\u001b[1;33m\u001b[0m\u001b[0m\n\u001b[0m\u001b[0;32m     70\u001b[0m \u001b[1;33m\u001b[0m\u001b[0m\n\u001b[0;32m     71\u001b[0m         \u001b[1;32mif\u001b[0m \u001b[0mself\u001b[0m\u001b[1;33m.\u001b[0m\u001b[0mrear\u001b[0m \u001b[1;33m==\u001b[0m \u001b[1;36m1\u001b[0m\u001b[1;33m:\u001b[0m\u001b[1;33m\u001b[0m\u001b[1;33m\u001b[0m\u001b[0m\n",
      "\u001b[1;31mTypeError\u001b[0m: exceptions must derive from BaseException"
     ]
    }
   ],
   "source": [
    "que.dump()"
   ]
  }
 ],
 "metadata": {
  "kernelspec": {
   "display_name": "Python 3",
   "language": "python",
   "name": "python3"
  },
  "language_info": {
   "codemirror_mode": {
    "name": "ipython",
    "version": 3
   },
   "file_extension": ".py",
   "mimetype": "text/x-python",
   "name": "python",
   "nbconvert_exporter": "python",
   "pygments_lexer": "ipython3",
   "version": "3.8.5"
  }
 },
 "nbformat": 4,
 "nbformat_minor": 4
}
