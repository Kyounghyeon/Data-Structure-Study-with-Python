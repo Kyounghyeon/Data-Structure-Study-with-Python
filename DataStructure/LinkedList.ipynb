{
 "cells": [
  {
   "cell_type": "markdown",
   "metadata": {},
   "source": [
    "# 연결리스트\n",
    "\n",
    "- 참고자료 : https://daimhada.tistory.com/category/Data%20structure"
   ]
  },
  {
   "cell_type": "markdown",
   "metadata": {},
   "source": [
    "## 0. Node"
   ]
  },
  {
   "cell_type": "code",
   "execution_count": 1,
   "metadata": {},
   "outputs": [],
   "source": [
    "class Node:\n",
    "    def __init__(self, item):\n",
    "        self.item = item # Node에 담긴 content\n",
    "        self.next = None # Node 다음이 가리키는 것\n",
    "        \n",
    "    # getter와 setter는 따로 정의하지 않음"
   ]
  },
  {
   "cell_type": "markdown",
   "metadata": {},
   "source": [
    "## 1. single linked list"
   ]
  },
  {
   "cell_type": "code",
   "execution_count": 2,
   "metadata": {},
   "outputs": [],
   "source": [
    "class SList:\n",
    "    \n",
    "    def __init__(self):\n",
    "        self.head = None\n",
    "    \n",
    "    def is_empty(self): \n",
    "        return self.head == None \n",
    "    \n",
    "    def add(self, item): \n",
    "        temp = Node(item)\n",
    "        temp.next = self.head\n",
    "        self.head = temp\n",
    "        \n",
    "    def size(self):\n",
    "        current = self.head\n",
    "        count = 0\n",
    "        while current != None:\n",
    "            count += 1\n",
    "            current = current.next\n",
    "        return count\n",
    "    \n",
    "    def search(self, item):\n",
    "        current = self.head\n",
    "        found = False\n",
    "        while current != None and not found:\n",
    "            if current.item == item:\n",
    "                found = True\n",
    "            else:\n",
    "                current = current.next\n",
    "        return found\n",
    "    \n",
    "    def delete(self, item):\n",
    "        current = self.head\n",
    "        previous = None\n",
    "        found = False\n",
    "        while not found:\n",
    "            if current.item == item:\n",
    "                found = True\n",
    "            else:\n",
    "                previous = current\n",
    "                current = current.next\n",
    "        if previous == None:\n",
    "            self.head= current.next\n",
    "        else:\n",
    "            previous.next = current.next\n",
    "            \n",
    "    def append(self, item):\n",
    "        temp = Node(item)\n",
    "        current = self.head\n",
    "        while True:\n",
    "            if current.next != None:\n",
    "                current = current.next\n",
    "            else:\n",
    "                current.next = temp\n",
    "                break"
   ]
  },
  {
   "cell_type": "markdown",
   "metadata": {},
   "source": [
    "## 2. double linked list\n"
   ]
  },
  {
   "cell_type": "markdown",
   "metadata": {},
   "source": [
    "## 3. circle linked list"
   ]
  },
  {
   "cell_type": "code",
   "execution_count": 23,
   "metadata": {},
   "outputs": [],
   "source": [
    "class CList:\n",
    "    def __init__(self):\n",
    "        self.head = None\n",
    "        \n",
    "    def is_empty(self):\n",
    "        return self.head == None\n",
    "    \n",
    "    def add(self, item):\n",
    "        temp = Node(item)\n",
    "        if self.is_empty():\n",
    "            self.head = temp\n",
    "            temp.next = temp\n",
    "        else:\n",
    "            temp.next = self.head.next\n",
    "            self.head.next = temp\n",
    "        print(\"Success\")\n",
    "            \n",
    "    def append(self, item):\n",
    "        temp = Node(item)\n",
    "        if self.is_empty():\n",
    "            self.head = temp\n",
    "            temp.next = temp\n",
    "        else:\n",
    "            temp.next = self.head.next\n",
    "            self.head.next = temp\n",
    "            self.head = temp\n",
    "        print(\"Success\")\n",
    "        \n",
    "    def delete_first(self):\n",
    "        if self.head == None:\n",
    "            print(\"None\")\n",
    "        else:\n",
    "            temp = self.head.next # Node that need to be deleted\n",
    "            if temp == temp.next: # Case : there is only one node in CList\n",
    "                self.head = None\n",
    "            else:\n",
    "                self.head.next = temp.next # last node's next -> second node\n",
    "            print(\"Success\")\n",
    "            \n",
    "    def delete_last(self):\n",
    "        if self.head == None:\n",
    "            print(\"None\")\n",
    "        else:\n",
    "            temp = self.head # Node that need to be deleted\n",
    "            if temp == self.head.next: # Case : when there is only one node in CList\n",
    "                self.head = None\n",
    "            else: # More than 2 nodes\n",
    "                '''\n",
    "                1. Find the last second node\n",
    "                2. Assign head to that node\n",
    "                3. Set that node.next to first node\n",
    "                '''\n",
    "                first = self.head.next\n",
    "                current = self.head.next\n",
    "                while current.next != temp: # Find until finding last second node \n",
    "                    current = current.next # if not yet reach to that node, move next\n",
    "                self.head = current\n",
    "                self.head.next = first\n",
    "                print(\"Success\")\n",
    "                \n",
    "\n",
    "    def search(self, item):\n",
    "        if self.head == None:\n",
    "            print(\"None\")\n",
    "        else:\n",
    "            temp = self.head.next\n",
    "            if self.head == temp:\n",
    "                if self.head.item == item:\n",
    "                    return True\n",
    "                else:\n",
    "                    return False\n",
    "            \n",
    "            found = False\n",
    "            current = temp\n",
    "            while True:\n",
    "                if current.item == item:\n",
    "                    found = True\n",
    "                else:\n",
    "                    current = current.next\n",
    "                if current != temp and not found: # 아직 모든 노드를 탐색하지 않았고, 찾지 못했다면 \n",
    "                    continue\n",
    "                else: # 모든 노드를 탐색했거나, 찾았다면\n",
    "                    break\n",
    "        \n",
    "        return found"
   ]
  },
  {
   "cell_type": "code",
   "execution_count": 24,
   "metadata": {},
   "outputs": [
    {
     "name": "stdout",
     "output_type": "stream",
     "text": [
      "Success\n",
      "Success\n",
      "Success\n",
      "Success\n"
     ]
    }
   ],
   "source": [
    "my = CList()\n",
    "my.add(10)\n",
    "my.add(9)\n",
    "my.add(8)\n",
    "my.append(7)"
   ]
  },
  {
   "cell_type": "code",
   "execution_count": 25,
   "metadata": {},
   "outputs": [
    {
     "data": {
      "text/plain": [
       "True"
      ]
     },
     "execution_count": 25,
     "metadata": {},
     "output_type": "execute_result"
    }
   ],
   "source": [
    "my.head.next.next.next.next == my.head "
   ]
  },
  {
   "cell_type": "code",
   "execution_count": 26,
   "metadata": {},
   "outputs": [
    {
     "name": "stdout",
     "output_type": "stream",
     "text": [
      "Success\n"
     ]
    }
   ],
   "source": [
    "my.delete_last()"
   ]
  },
  {
   "cell_type": "code",
   "execution_count": 27,
   "metadata": {},
   "outputs": [
    {
     "data": {
      "text/plain": [
       "10"
      ]
     },
     "execution_count": 27,
     "metadata": {},
     "output_type": "execute_result"
    }
   ],
   "source": [
    "my.head.item"
   ]
  },
  {
   "cell_type": "code",
   "execution_count": 28,
   "metadata": {},
   "outputs": [
    {
     "data": {
      "text/plain": [
       "8"
      ]
     },
     "execution_count": 28,
     "metadata": {},
     "output_type": "execute_result"
    }
   ],
   "source": [
    "my.head.next.item"
   ]
  },
  {
   "cell_type": "code",
   "execution_count": 29,
   "metadata": {},
   "outputs": [
    {
     "name": "stdout",
     "output_type": "stream",
     "text": [
      "Success\n"
     ]
    }
   ],
   "source": [
    "my.delete_first()"
   ]
  },
  {
   "cell_type": "code",
   "execution_count": 30,
   "metadata": {},
   "outputs": [
    {
     "data": {
      "text/plain": [
       "10"
      ]
     },
     "execution_count": 30,
     "metadata": {},
     "output_type": "execute_result"
    }
   ],
   "source": [
    "my.head.item"
   ]
  },
  {
   "cell_type": "code",
   "execution_count": 31,
   "metadata": {},
   "outputs": [
    {
     "data": {
      "text/plain": [
       "9"
      ]
     },
     "execution_count": 31,
     "metadata": {},
     "output_type": "execute_result"
    }
   ],
   "source": [
    "my.head.next.item\n"
   ]
  },
  {
   "cell_type": "code",
   "execution_count": 32,
   "metadata": {},
   "outputs": [
    {
     "data": {
      "text/plain": [
       "True"
      ]
     },
     "execution_count": 32,
     "metadata": {},
     "output_type": "execute_result"
    }
   ],
   "source": [
    "my.head.next.next == my.head"
   ]
  },
  {
   "cell_type": "markdown",
   "metadata": {},
   "source": [
    "링크드리스트, 연결리스트는 데이터를 노드(데이터와 next로 구성)의 형태로 저정한다.  \n",
    "노드에는 데이터와 다음 노드를 가리키는 포인터를 담은 구조로 이루어져 있음.  \n",
    "선형 자료구조이지만, 연결리스트에서는 노드의 next 부분에 다음 노드의 위치를 저장한다.  \n",
    "- 삽입과 삭제의 경우 리스트에 비해 효율적\n",
    "- 탐색은 오래 걸림\n",
    "------------------------------\n",
    "- 길이를 동적으로 조절 가능(동적이란 무엇일까..)\n",
    "- 삽입 삭제 easy\n",
    "---------------------------------\n",
    "- 임의의 노드에 바로 접근 불가능, 순차 탐색 해야하기 때문인가?\n",
    "- cache locality를 활용해 근접 데이터를 사전에 캐시에 저장하기 어려움\n",
    " - cache locality : 한번 사용한 데이터를 다시 사용할 가능성이 높은 프로그램의 경우, 그 주변의 데이터도 곧 바로 사용할 가능성이 높다. 데이터 지역성을 활용하여 메인 메모리에 있는 데이터를 캐시 메모리에 불러오고, 필요한 데이터(주변 데이터)를 메인 메모리가 아닌 캐시 메모리에서 먼저 찾도록 할 수 있음"
   ]
  },
  {
   "cell_type": "code",
   "execution_count": null,
   "metadata": {},
   "outputs": [],
   "source": []
  }
 ],
 "metadata": {
  "kernelspec": {
   "display_name": "Python 3",
   "language": "python",
   "name": "python3"
  },
  "language_info": {
   "codemirror_mode": {
    "name": "ipython",
    "version": 3
   },
   "file_extension": ".py",
   "mimetype": "text/x-python",
   "name": "python",
   "nbconvert_exporter": "python",
   "pygments_lexer": "ipython3",
   "version": "3.8.5"
  }
 },
 "nbformat": 4,
 "nbformat_minor": 4
}
