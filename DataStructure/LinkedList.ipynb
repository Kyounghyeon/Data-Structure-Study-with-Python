{
 "cells": [
  {
   "cell_type": "markdown",
   "metadata": {},
   "source": [
    "# 연결리스트\n",
    "\n",
    "- 참고자료 : https://daimhada.tistory.com/category/Data%20structure"
   ]
  },
  {
   "cell_type": "markdown",
   "metadata": {},
   "source": [
    "## 1. single linked list\n",
    "## 2. double linked list\n",
    "## 3. circle linked list"
   ]
  },
  {
   "cell_type": "markdown",
   "metadata": {},
   "source": [
    "링크드리스트, 연결리스트는 데이터를 노드(데이터와 next로 구성)의 형태로 저정한다.  \n",
    "노드에는 데이터와 다음 노드를 가리키는 포인터를 담은 구조로 이루어져 있음.  \n",
    "선형 자료구조이지만, 연결리스트에서는 노드의 next 부분에 다음 노드의 위치를 저장한다.  \n",
    "- 삽입과 삭제의 경우 리스트에 비해 효율적\n",
    "- 탐색은 오래 걸림\n",
    "------------------------------\n",
    "- 길이를 동적으로 조절 가능(동적이란 무엇일까..)\n",
    "- 삽입 삭제 easy\n",
    "---------------------------------\n",
    "- 임의의 노드에 바로 접근 불가능, 순차 탐색 해야하기 때문인가?\n",
    "- cache locality를 활용해 근접 데이터를 사전에 캐시에 저장하기 어려움\n",
    " - cache locality : 한번 사용한 데이터를 다시 사용할 가능성이 높은 프로그램의 경우, 그 주변의 데이터도 곧 바로 사용할 가능성이 높다. 데이터 지역성을 활용하여 메인 메모리에 있는 데이터를 캐시 메모리에 불러오고, 필요한 데이터(주변 데이터)를 메인 메모리가 아닌 캐시 메모리에서 먼저 찾도록 할 수 있음"
   ]
  },
  {
   "cell_type": "code",
   "execution_count": null,
   "metadata": {},
   "outputs": [],
   "source": []
  }
 ],
 "metadata": {
  "kernelspec": {
   "display_name": "Python 3",
   "language": "python",
   "name": "python3"
  },
  "language_info": {
   "codemirror_mode": {
    "name": "ipython",
    "version": 3
   },
   "file_extension": ".py",
   "mimetype": "text/x-python",
   "name": "python",
   "nbconvert_exporter": "python",
   "pygments_lexer": "ipython3",
   "version": "3.8.5"
  }
 },
 "nbformat": 4,
 "nbformat_minor": 4
}
