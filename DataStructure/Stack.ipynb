{
 "cells": [
  {
   "cell_type": "markdown",
   "metadata": {},
   "source": [
    "# Stack\n",
    "\n",
    "**LIFO** 구조\n",
    "- Last in, First out 으로 아래에서부터 위로 차곡차곡 쌓이는 구조를 생각하면 됨\n",
    "--------------------------\n",
    "- 참조 지역성을 활용 가능\n",
    "- 데이터를 탐색하기 어려움"
   ]
  },
  {
   "cell_type": "markdown",
   "metadata": {},
   "source": [
    "## stack class 구현"
   ]
  },
  {
   "cell_type": "code",
   "execution_count": 1,
   "metadata": {},
   "outputs": [],
   "source": [
    "class stack:\n",
    "    \n",
    "    def __init__(self):\n",
    "        print(\"You just created 'stack'\")\n",
    "        self.stack = []\n",
    "    \n",
    "    # 맨 위에 값 추가\n",
    "    def push(self, value):\n",
    "        self.stack.append(value)\n",
    "        print(\"You push\", value, \"in stack\")\n",
    "    \n",
    "    # 가장 최근에 넣은 맨 위의 값을 제거\n",
    "    def pop(self):\n",
    "        \n",
    "        if self.is_empty():\n",
    "            return -1\n",
    "        return self.stack.pop()\n",
    "    \n",
    "    # 스택의 변형 없이 맨 위의 값을 출력만 함\n",
    "    def peak(self):\n",
    "        if len(self.stack) == 0:\n",
    "            return -1\n",
    "        else:\n",
    "            # 뒤부터 인덱싱할 때에는 -1, -2, ...\n",
    "            return self.stack[-1]\n",
    "    \n",
    "    # 스택이 비어있는지 확인\n",
    "    def is_empty(self):\n",
    "        if len(self.stack) == 0:\n",
    "            return True\n",
    "        else:\n",
    "            return False\n",
    "        \n",
    "    def __repr__(self):\n",
    "        return print(self.stack)"
   ]
  },
  {
   "cell_type": "code",
   "execution_count": 2,
   "metadata": {},
   "outputs": [
    {
     "name": "stdout",
     "output_type": "stream",
     "text": [
      "You just created 'stack'\n"
     ]
    }
   ],
   "source": [
    "my_stack = stack()"
   ]
  },
  {
   "cell_type": "code",
   "execution_count": 17,
   "metadata": {},
   "outputs": [
    {
     "data": {
      "text/plain": [
       "True"
      ]
     },
     "execution_count": 17,
     "metadata": {},
     "output_type": "execute_result"
    }
   ],
   "source": [
    "my_stack.is_empty()"
   ]
  },
  {
   "cell_type": "code",
   "execution_count": 26,
   "metadata": {},
   "outputs": [
    {
     "name": "stdout",
     "output_type": "stream",
     "text": [
      "You just created 'stack'\n",
      "You push a in stack\n",
      "You push 1 in stack\n",
      "You push 2 in stack\n"
     ]
    },
    {
     "data": {
      "text/plain": [
       "-1"
      ]
     },
     "execution_count": 26,
     "metadata": {},
     "output_type": "execute_result"
    }
   ],
   "source": [
    "my_stack = stack()\n",
    "my_stack.push(\"a\")\n",
    "my_stack.push(1)\n",
    "my_stack.push(2) # 지금까지 \"a\", 1, 2\n",
    "my_stack.pop() # 2 제거 \n",
    "my_stack.peak() # 1 출력\n",
    "my_stack.is_empty() # \"a\", 1 들어있음\n",
    "my_stack.pop() # 1 제거\n",
    "my_stack.pop() # \"a\" 제거\n",
    "my_stack.pop() # 이제 없음"
   ]
  },
  {
   "cell_type": "code",
   "execution_count": 3,
   "metadata": {},
   "outputs": [
    {
     "name": "stdout",
     "output_type": "stream",
     "text": [
      "You just created 'stack'\n",
      "You push a in stack\n",
      "You push 1 in stack\n",
      "You push 2 in stack\n",
      "['a', 1, 2]\n"
     ]
    },
    {
     "ename": "TypeError",
     "evalue": "__str__ returned non-string (type NoneType)",
     "output_type": "error",
     "traceback": [
      "\u001b[1;31m---------------------------------------------------------------------------\u001b[0m",
      "\u001b[1;31mTypeError\u001b[0m                                 Traceback (most recent call last)",
      "\u001b[1;32m<ipython-input-3-b889850d9cd8>\u001b[0m in \u001b[0;36m<module>\u001b[1;34m\u001b[0m\n\u001b[0;32m      3\u001b[0m \u001b[0mmy_stack\u001b[0m\u001b[1;33m.\u001b[0m\u001b[0mpush\u001b[0m\u001b[1;33m(\u001b[0m\u001b[1;36m1\u001b[0m\u001b[1;33m)\u001b[0m\u001b[1;33m\u001b[0m\u001b[1;33m\u001b[0m\u001b[0m\n\u001b[0;32m      4\u001b[0m \u001b[0mmy_stack\u001b[0m\u001b[1;33m.\u001b[0m\u001b[0mpush\u001b[0m\u001b[1;33m(\u001b[0m\u001b[1;36m2\u001b[0m\u001b[1;33m)\u001b[0m \u001b[1;31m# 지금까지 \"a\", 1, 2\u001b[0m\u001b[1;33m\u001b[0m\u001b[1;33m\u001b[0m\u001b[0m\n\u001b[1;32m----> 5\u001b[1;33m \u001b[0mprint\u001b[0m\u001b[1;33m(\u001b[0m\u001b[0mmy_stack\u001b[0m\u001b[1;33m)\u001b[0m\u001b[1;33m\u001b[0m\u001b[1;33m\u001b[0m\u001b[0m\n\u001b[0m",
      "\u001b[1;31mTypeError\u001b[0m: __str__ returned non-string (type NoneType)"
     ]
    }
   ],
   "source": [
    "my_stack = stack()\n",
    "my_stack.push(\"a\")\n",
    "my_stack.push(1)\n",
    "my_stack.push(2) # 지금까지 \"a\", 1, 2"
   ]
  }
 ],
 "metadata": {
  "kernelspec": {
   "display_name": "Python 3",
   "language": "python",
   "name": "python3"
  },
  "language_info": {
   "codemirror_mode": {
    "name": "ipython",
    "version": 3
   },
   "file_extension": ".py",
   "mimetype": "text/x-python",
   "name": "python",
   "nbconvert_exporter": "python",
   "pygments_lexer": "ipython3",
   "version": "3.8.5"
  }
 },
 "nbformat": 4,
 "nbformat_minor": 4
}
