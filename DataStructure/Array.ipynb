{
 "cells": [
  {
   "cell_type": "markdown",
   "metadata": {},
   "source": [
    "# Array (배열)\n",
    "- 구현이 쉬움\n",
    "- index를 통한 접근\n",
    "- 빠른 접근\n",
    "- 메모리 많이 소모(삭제해도 메모리 차지함), 데이터 추가와 삭제에 비용 소모\n",
    "- 넘파이에서 정의할 수 있긴 함\n",
    "- 모든 원소가 같은 자료형이어야 하며, 크기를 변경할 수 없음"
   ]
  },
  {
   "cell_type": "markdown",
   "metadata": {},
   "source": [
    "**추가**\n",
    "- 순차 탐색에서 연속된 메모리 공간에 할당해서, 연결 리스트보다 빠른 성능\n",
    "- OS의 캐시 지역성을 활용할 수 있음"
   ]
  },
  {
   "cell_type": "code",
   "execution_count": 27,
   "metadata": {},
   "outputs": [],
   "source": [
    "# Array 정의\n",
    "my = [1,2,3] # list  = 1차원? array"
   ]
  },
  {
   "cell_type": "code",
   "execution_count": 28,
   "metadata": {},
   "outputs": [
    {
     "data": {
      "text/plain": [
       "[1, 2, 3]"
      ]
     },
     "execution_count": 28,
     "metadata": {},
     "output_type": "execute_result"
    }
   ],
   "source": [
    "my"
   ]
  },
  {
   "cell_type": "code",
   "execution_count": 29,
   "metadata": {},
   "outputs": [
    {
     "data": {
      "text/plain": [
       "[2, 3]"
      ]
     },
     "execution_count": 29,
     "metadata": {},
     "output_type": "execute_result"
    }
   ],
   "source": [
    "# del 함수 아님. 예약어? 임\n",
    "\n",
    "del my[0] # .이나 ()를 사용 못함. 즉 method나 함수처럼 사용 못함\n",
    "my\n"
   ]
  },
  {
   "cell_type": "code",
   "execution_count": 33,
   "metadata": {},
   "outputs": [],
   "source": [
    "my = [1,2,3]"
   ]
  },
  {
   "cell_type": "code",
   "execution_count": 34,
   "metadata": {},
   "outputs": [
    {
     "data": {
      "text/plain": [
       "[2, 3]"
      ]
     },
     "execution_count": 34,
     "metadata": {},
     "output_type": "execute_result"
    }
   ],
   "source": [
    "my.remove(1)\n",
    "my # 원소가 1인 것을 제거 (index아님)"
   ]
  },
  {
   "cell_type": "code",
   "execution_count": 35,
   "metadata": {},
   "outputs": [
    {
     "data": {
      "text/plain": [
       "2"
      ]
     },
     "execution_count": 35,
     "metadata": {},
     "output_type": "execute_result"
    }
   ],
   "source": [
    "my = [1,2,3]\n",
    "my.pop(1) (index가 1인 원소 추출 후 제거)"
   ]
  },
  {
   "cell_type": "code",
   "execution_count": 37,
   "metadata": {},
   "outputs": [
    {
     "data": {
      "text/plain": [
       "[1, 3]"
      ]
     },
     "execution_count": 37,
     "metadata": {},
     "output_type": "execute_result"
    }
   ],
   "source": [
    "my # my.pop 때문에 제거됨 "
   ]
  },
  {
   "cell_type": "code",
   "execution_count": 57,
   "metadata": {},
   "outputs": [
    {
     "name": "stdout",
     "output_type": "stream",
     "text": [
      "3\n",
      "3\n",
      "4\n"
     ]
    }
   ],
   "source": [
    "# array 다운 array \n",
    "my2 = [[1,2,3],[4,5,6],[7,8,9,10]]\n",
    "\n",
    "# 한번 nested 된 구조일 때 \n",
    "# 각각 nested된 list가 몇 개의 원소를 갖고 있는지 반환하는 함수\n",
    "def len_array(arr):\n",
    "    for i in range(len(arr)):\n",
    "        print(len(arr[i]))\n",
    "        \n",
    "len_array(my2)"
   ]
  },
  {
   "cell_type": "code",
   "execution_count": 58,
   "metadata": {},
   "outputs": [
    {
     "name": "stdout",
     "output_type": "stream",
     "text": [
      "['a', 2, 3]\n",
      "[4, 5, 'b']\n",
      "[7, 'c', 9, 10]\n"
     ]
    }
   ],
   "source": [
    "my3 = [[\"a\",2,3],[4,5,\"b\"],[7,\"c\",9,10]]\n",
    "\n",
    "for i in my3:\n",
    "    print(i)"
   ]
  },
  {
   "cell_type": "code",
   "execution_count": 75,
   "metadata": {},
   "outputs": [],
   "source": [
    "def find_chr(arr, ch):\n",
    "    k = -1\n",
    "    # 첫번째 원소부터 살펴보자\n",
    "    for i in range(len(arr)):\n",
    "        \n",
    "        # 첫번째 원소안에 list부터 보자\n",
    "        for j in range(len(arr[i])):\n",
    "            \n",
    "            #리스트 안에 원소가 찾으려는 ch와 같으면 인덱스를 반환 아니면 그냥 패스\n",
    "            if ch == arr[i][j] :\n",
    "                k = [i,j]\n",
    "                print(\"찾으시는 원소는\",k,\"에 있습니다.\")\n",
    "     \n",
    "    if k == -1 :\n",
    "        print(\"일치하는 것이 없습니다.\")"
   ]
  },
  {
   "cell_type": "code",
   "execution_count": 88,
   "metadata": {},
   "outputs": [],
   "source": [
    "my3 = [[\"a\",2,3],[4,5,\"b\"],[7,\"c\",9,\"a\"]]"
   ]
  },
  {
   "cell_type": "code",
   "execution_count": 77,
   "metadata": {},
   "outputs": [
    {
     "name": "stdout",
     "output_type": "stream",
     "text": [
      "찾으시는 원소는 [0, 0] 에 있습니다.\n",
      "찾으시는 원소는 [2, 3] 에 있습니다.\n"
     ]
    }
   ],
   "source": [
    "find_chr(my3, \"a\")"
   ]
  },
  {
   "cell_type": "code",
   "execution_count": 80,
   "metadata": {},
   "outputs": [
    {
     "name": "stdout",
     "output_type": "stream",
     "text": [
      "일치하는 것이 없습니다.\n"
     ]
    }
   ],
   "source": [
    "find_chr(my3, \"d\")"
   ]
  },
  {
   "cell_type": "code",
   "execution_count": 82,
   "metadata": {},
   "outputs": [
    {
     "name": "stdout",
     "output_type": "stream",
     "text": [
      "찾으시는 원소는 [0, 2] 에 있습니다.\n"
     ]
    }
   ],
   "source": [
    "find_chr(my3, 3)"
   ]
  },
  {
   "cell_type": "code",
   "execution_count": 89,
   "metadata": {},
   "outputs": [
    {
     "name": "stdout",
     "output_type": "stream",
     "text": [
      "찾으시는 원소는 [0, 2] 에 있습니다.\n",
      "찾으시는 원소는 [3, 2] 에 있습니다.\n"
     ]
    }
   ],
   "source": [
    "my3 = [[\"a\",2,3],[4,5,\"b\"],[7,\"c\",9,\"a\"]]\n",
    "my3.append([1,2,3])\n",
    "my3\n",
    "find_chr(my3, 1 | 3)"
   ]
  },
  {
   "cell_type": "markdown",
   "metadata": {},
   "source": [
    "numpy를 이용하면 아래와 같이 정의 가능"
   ]
  },
  {
   "cell_type": "code",
   "execution_count": 91,
   "metadata": {},
   "outputs": [],
   "source": [
    "import numpy as np"
   ]
  },
  {
   "cell_type": "code",
   "execution_count": 98,
   "metadata": {},
   "outputs": [
    {
     "data": {
      "text/plain": [
       "array([['1', '2', '3'],\n",
       "       ['2', '3', '4']], dtype='<U1')"
      ]
     },
     "execution_count": 98,
     "metadata": {},
     "output_type": "execute_result"
    }
   ],
   "source": [
    "np.array([[1,2,3],[2,3,4]], dtype = 'str')"
   ]
  }
 ],
 "metadata": {
  "kernelspec": {
   "display_name": "Python 3",
   "language": "python",
   "name": "python3"
  },
  "language_info": {
   "codemirror_mode": {
    "name": "ipython",
    "version": 3
   },
   "file_extension": ".py",
   "mimetype": "text/x-python",
   "name": "python",
   "nbconvert_exporter": "python",
   "pygments_lexer": "ipython3",
   "version": "3.8.5"
  }
 },
 "nbformat": 4,
 "nbformat_minor": 4
}
