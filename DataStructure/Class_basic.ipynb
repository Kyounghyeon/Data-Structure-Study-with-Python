{
 "cells": [
  {
   "cell_type": "markdown",
   "metadata": {},
   "source": [
    "#  클래스 기본기 닦기"
   ]
  },
  {
   "cell_type": "markdown",
   "metadata": {},
   "source": [
    "## 0. 참고자료\n",
    "- https://wikidocs.net/85 기본 개념\n",
    "- https://wikidocs.net/41106 연습 문제"
   ]
  },
  {
   "cell_type": "markdown",
   "metadata": {},
   "source": [
    "## 1. 클래스 개요 \n",
    "- 클래스는 객체의 구조와 행동을 정의\n",
    "- 객체의 클래스는 초기화를 통해 제어\n",
    "- 클래스의 네이밍은 카멜케이스(CamelCase) (_사용 안함)\n",
    "- 객체 지향 언어를 작성하는 방법이다"
   ]
  },
  {
   "cell_type": "markdown",
   "metadata": {},
   "source": [
    "## 2. 클래스와 인스턴스의 개념\n",
    "특정한 물건(?)은 인스턴스이며 그 물건을 포함하는 범주는 클래스라고 할 수 있다.\n",
    "- 예시) '포유류'는 클래스이며, '강아지'는 인스턴스\n",
    "- 근데 강아지도 다르게 생각하면 새로운 클래스가 될 수는 있네..\n"
   ]
  },
  {
   "cell_type": "markdown",
   "metadata": {},
   "source": [
    "## 3. 코드 연습"
   ]
  },
  {
   "cell_type": "code",
   "execution_count": 5,
   "metadata": {},
   "outputs": [
    {
     "data": {
      "text/plain": [
       "'Lalalilala'"
      ]
     },
     "execution_count": 5,
     "metadata": {},
     "output_type": "execute_result"
    }
   ],
   "source": [
    "# Class\n",
    "class Singer:                   # 가수 클래스 정의\n",
    "    # Method\n",
    "    def sing(self):             # 노래 메서드 정의\n",
    "        return \"Lalalilala\"     # 리턴 값\n",
    "\n",
    "# instance\n",
    "me = Singer()                   # 나는 가수\n",
    "me.sing()                        # 내가 노래하면 -> 리턴"
   ]
  },
  {
   "cell_type": "code",
   "execution_count": 12,
   "metadata": {},
   "outputs": [
    {
     "data": {
      "text/plain": [
       "1818161"
      ]
     },
     "execution_count": 12,
     "metadata": {},
     "output_type": "execute_result"
    }
   ],
   "source": [
    "class Pathfinder:\n",
    "    strength = 20\n",
    "    dexterity = 1500\n",
    "    intelligence = 5\n",
    "    luck = 60\n",
    "    \n",
    "    def damage(self):\n",
    "        return 1818161\n",
    "    \n",
    "my_character = Pathfinder()\n",
    "\n",
    "my_character.damage()"
   ]
  },
  {
   "cell_type": "code",
   "execution_count": 10,
   "metadata": {},
   "outputs": [
    {
     "data": {
      "text/plain": [
       "20"
      ]
     },
     "execution_count": 10,
     "metadata": {},
     "output_type": "execute_result"
    }
   ],
   "source": [
    "my_character.strength"
   ]
  },
  {
   "cell_type": "code",
   "execution_count": 13,
   "metadata": {},
   "outputs": [],
   "source": [
    "class Pathfinder:\n",
    "    strength = 20\n",
    "    dexterity = 1500\n",
    "    intelligence = 5\n",
    "    luck = 60\n",
    "    \n",
    "    def damage(self):\n",
    "        return 1818161\n",
    "    \n",
    "    # pathfinder class 안에서 exercise라는 method를 실행하면 아래와 같은 작업을 수행\n",
    "    def exercise(self):\n",
    "        self.strength += 5\n",
    "        self.dexterity += 150\n",
    "        self.luck += 10\n",
    "        \n",
    "my_character = Pathfinder()\n"
   ]
  },
  {
   "cell_type": "markdown",
   "metadata": {},
   "source": [
    "self는 instance 그 자체를 의미한다고 생각하면 되려나"
   ]
  },
  {
   "cell_type": "code",
   "execution_count": 14,
   "metadata": {},
   "outputs": [
    {
     "data": {
      "text/plain": [
       "1500"
      ]
     },
     "execution_count": 14,
     "metadata": {},
     "output_type": "execute_result"
    }
   ],
   "source": [
    "my_character.dexterity"
   ]
  },
  {
   "cell_type": "code",
   "execution_count": 17,
   "metadata": {},
   "outputs": [],
   "source": [
    "my_character.exercise()"
   ]
  },
  {
   "cell_type": "code",
   "execution_count": 18,
   "metadata": {},
   "outputs": [
    {
     "data": {
      "text/plain": [
       "1800"
      ]
     },
     "execution_count": 18,
     "metadata": {},
     "output_type": "execute_result"
    }
   ],
   "source": [
    "my_character.dexterity"
   ]
  },
  {
   "cell_type": "code",
   "execution_count": 20,
   "metadata": {},
   "outputs": [],
   "source": [
    "class Book:\n",
    "\n",
    "    def setData(self, title, price, author):\n",
    "        self.title = title\n",
    "        self.price = price\n",
    "        self.author = author\n",
    "\n",
    "    def printData(self):\n",
    "        print( '제목 : ', self.title)\n",
    "        print( '가격 : ', self.price)\n",
    "        print( '저자 : ', self.author)\n",
    "\n",
    "    def __init__(self):\n",
    "        print ('책 객체를 새로 만들었어요~')"
   ]
  },
  {
   "cell_type": "code",
   "execution_count": 21,
   "metadata": {},
   "outputs": [
    {
     "name": "stdout",
     "output_type": "stream",
     "text": [
      "책 객체를 새로 만들었어요~\n"
     ]
    }
   ],
   "source": [
    "book = Book()"
   ]
  },
  {
   "cell_type": "code",
   "execution_count": 25,
   "metadata": {},
   "outputs": [
    {
     "name": "stdout",
     "output_type": "stream",
     "text": [
      "제목 :  도시는 무엇으로 사는가\n",
      "가격 :  18,000원\n",
      "저자 :  유현준\n"
     ]
    }
   ],
   "source": [
    "book.setData(\"도시는 무엇으로 사는가\", \"18,000원\", \"유현준\")\n",
    "book.printData()"
   ]
  },
  {
   "cell_type": "code",
   "execution_count": 27,
   "metadata": {},
   "outputs": [],
   "source": [
    "class Book:\n",
    "\n",
    "    def setData(self, title, price, author):\n",
    "        self.title = title\n",
    "        self.price = price\n",
    "        self.author = author\n",
    "\n",
    "    def printData(self):\n",
    "        print( '제목 : ', self.title)\n",
    "        print( '가격 : ', self.price)\n",
    "        print( '저자 : ', self.author)\n",
    "        \n",
    "    def __init__(self, title, price, author):\n",
    "        self.setData(title, price, author)\n",
    "        print ('책 객체를 새로 만들었어요~')"
   ]
  },
  {
   "cell_type": "code",
   "execution_count": 35,
   "metadata": {},
   "outputs": [
    {
     "name": "stdout",
     "output_type": "stream",
     "text": [
      "책 객체를 새로 만들었어요~\n",
      "제목 :  오직 한 사람의 차지\n",
      "가격 :  16,800원\n",
      "저자 :  김금희\n"
     ]
    }
   ],
   "source": [
    "my_book = Book(\"오직 한 사람의 차지\", \"16,800원\", \"김금희\")\n",
    "my_book.printData()"
   ]
  },
  {
   "cell_type": "code",
   "execution_count": 36,
   "metadata": {},
   "outputs": [
    {
     "name": "stdout",
     "output_type": "stream",
     "text": [
      "제목 :  대학원생 때 알았더라면 좋았을 것들\n",
      "가격 :  20,000원\n",
      "저자 :  엄태용\n"
     ]
    }
   ],
   "source": [
    "my_book.setData(\"대학원생 때 알았더라면 좋았을 것들\", \"20,000원\", \"엄태용\")\n",
    "my_book.printData()"
   ]
  },
  {
   "cell_type": "markdown",
   "metadata": {},
   "source": [
    "- `__init__` : 초기화 method\n",
    "- `__del__` : 소멸 method\n",
    "- `__repr__` : 프린팅 method\n",
    "- `__add__`, `__sub__`\n",
    "- `__cmp__` : 비교 method"
   ]
  },
  {
   "cell_type": "markdown",
   "metadata": {},
   "source": [
    "## 4. 연습 문제"
   ]
  },
  {
   "cell_type": "code",
   "execution_count": 37,
   "metadata": {},
   "outputs": [
    {
     "data": {
      "text/plain": [
       "'응애응애'"
      ]
     },
     "execution_count": 37,
     "metadata": {},
     "output_type": "execute_result"
    }
   ],
   "source": [
    "# 1\n",
    "class 사람:\n",
    "    pass\n",
    "\n",
    "# 2\n",
    "human = 사람()\n",
    "\n",
    "# 3\n",
    "class 사람:\n",
    "    \n",
    "    def cry(self):\n",
    "        return \"응애응애\"\n",
    "\n",
    "사람().cry()"
   ]
  },
  {
   "cell_type": "code",
   "execution_count": 40,
   "metadata": {},
   "outputs": [
    {
     "name": "stdout",
     "output_type": "stream",
     "text": [
      "엉엉엉엉\n",
      "흑흑흑흑\n"
     ]
    }
   ],
   "source": [
    "# 6\n",
    "class 사람:\n",
    "    \n",
    "    def cry(self, thing):\n",
    "        print(thing*2)\n",
    "        \n",
    "사람().cry(\"엉엉\")\n",
    "사람().cry(\"흑흑\")"
   ]
  },
  {
   "cell_type": "code",
   "execution_count": 41,
   "metadata": {},
   "outputs": [
    {
     "name": "stdout",
     "output_type": "stream",
     "text": [
      "엄\n",
      "마\n",
      "아\n",
      "아\n"
     ]
    }
   ],
   "source": [
    "# 7\n",
    "class 사람:\n",
    "    def cry(self, thing):\n",
    "        for i in thing:\n",
    "            print(i)\n",
    "\n",
    "사람().cry(\"엄마아아\")"
   ]
  },
  {
   "cell_type": "code",
   "execution_count": 45,
   "metadata": {},
   "outputs": [
    {
     "name": "stdout",
     "output_type": "stream",
     "text": [
      "김철수에게 010-7211-3632 발신중\n"
     ]
    }
   ],
   "source": [
    "# 8\n",
    "class 사람:\n",
    "    def call(self, name, phone):\n",
    "        print(name+\"에게\",phone, \"발신중\") # 띄어쓰기 안하고 싶으면 +으로 묶자\n",
    "\n",
    "사람().call(\"김철수\", \"010-7211-3632\")"
   ]
  },
  {
   "cell_type": "code",
   "execution_count": 54,
   "metadata": {},
   "outputs": [
    {
     "data": {
      "text/plain": [
       "'윤XX람'"
      ]
     },
     "execution_count": 54,
     "metadata": {},
     "output_type": "execute_result"
    }
   ],
   "source": [
    "# 10\n",
    "class 사람:\n",
    "    def 개인정보(self, name):\n",
    "        return name[0]+ \"X\"*(len(name)-2) +name[len(name)-1]\n",
    "    \n",
    "사람().개인정보(\"고경현\")\n",
    "사람().개인정보(\"윤빛가람\")"
   ]
  },
  {
   "cell_type": "code",
   "execution_count": 59,
   "metadata": {},
   "outputs": [
    {
     "name": "stdout",
     "output_type": "stream",
     "text": [
      "3 x 1 = 3\n",
      "3 x 2 = 6\n",
      "3 x 3 = 9\n",
      "3 x 4 = 12\n",
      "3 x 5 = 15\n",
      "3 x 6 = 18\n",
      "3 x 7 = 21\n",
      "3 x 8 = 24\n",
      "3 x 9 = 27\n"
     ]
    }
   ],
   "source": [
    "# 구구단 클래스 정의\n",
    "# 구구단 클래스 안에서 숫자 하나를 입력 받아 그 숫자에 해당하는 구구단을 출력\n",
    "\n",
    "class 구구단:\n",
    "    \n",
    "    def print(self, num):\n",
    "        for i in range(1,10):\n",
    "            print(num, \"x\", i, \"=\", num*i)\n",
    "            \n",
    "구구단().print(3)"
   ]
  },
  {
   "cell_type": "code",
   "execution_count": 60,
   "metadata": {},
   "outputs": [
    {
     "name": "stdout",
     "output_type": "stream",
     "text": [
      "응애응애\n"
     ]
    }
   ],
   "source": [
    "# 11 init 써보기\n",
    "class 사람:\n",
    "    def __init__(self):\n",
    "        print(\"응애응애\")\n",
    "    \n",
    "고경현 = 사람()"
   ]
  },
  {
   "cell_type": "code",
   "execution_count": 67,
   "metadata": {},
   "outputs": [
    {
     "name": "stdout",
     "output_type": "stream",
     "text": [
      "고경현 님이 태어났습니다\n"
     ]
    },
    {
     "data": {
      "text/plain": [
       "'고경현'"
      ]
     },
     "execution_count": 67,
     "metadata": {},
     "output_type": "execute_result"
    }
   ],
   "source": [
    "# 12 init 응용 조금\n",
    "class 사람:\n",
    "    def __init__(self, name):\n",
    "        print(name, \"님이 태어났습니다\")\n",
    "        \n",
    "사람(\"고경현\")\n",
    "\n",
    "class 사람:\n",
    "    def __init__(self, name, year):\n",
    "        self.연도 = year\n",
    "        self.이름 = name\n",
    "    \n",
    "human = 사람(\"고경현\", 1998)\n",
    "human.연도\n",
    "human.이름"
   ]
  },
  {
   "cell_type": "code",
   "execution_count": 76,
   "metadata": {},
   "outputs": [
    {
     "name": "stdout",
     "output_type": "stream",
     "text": [
      "김철수\n",
      "김영희\n",
      "박영수\n",
      "김철수\n"
     ]
    }
   ],
   "source": [
    "# 20\n",
    "class 사람:\n",
    "    \n",
    "    \n",
    "    def __init__(self, name, freinds):\n",
    "        self.친구들 = freinds\n",
    "        \n",
    "    def 친구목록(self, num):\n",
    "        for i in self.친구들[:num]:\n",
    "            print(i)\n",
    "        \n",
    "human = 사람(\"유종훈\", [\"김철수\", \"김영희\", \"박영수\", \"이미자\"])\n",
    "human.친구목록(3)\n",
    "human.친구목록(1)\n"
   ]
  },
  {
   "cell_type": "code",
   "execution_count": 78,
   "metadata": {},
   "outputs": [
    {
     "data": {
      "text/plain": [
       "2"
      ]
     },
     "execution_count": 78,
     "metadata": {},
     "output_type": "execute_result"
    }
   ],
   "source": [
    "# 31\n",
    "class 차:\n",
    "    def __init__(self,바퀴개수, 가격):\n",
    "        self.바퀴 = 바퀴개수\n",
    "        self.가격 = 가격\n",
    "        \n",
    "car = 차(2,1000)\n",
    "car.바퀴\n",
    "car.가격"
   ]
  },
  {
   "cell_type": "code",
   "execution_count": 81,
   "metadata": {},
   "outputs": [
    {
     "data": {
      "text/plain": [
       "100"
      ]
     },
     "execution_count": 81,
     "metadata": {},
     "output_type": "execute_result"
    }
   ],
   "source": [
    "# 33\n",
    "class 자전차(차):\n",
    "    pass\n",
    "\n",
    "bicycle = 자전차(2,100)\n",
    "bicycle.가격"
   ]
  },
  {
   "cell_type": "code",
   "execution_count": 83,
   "metadata": {},
   "outputs": [
    {
     "data": {
      "text/plain": [
       "'시마노'"
      ]
     },
     "execution_count": 83,
     "metadata": {},
     "output_type": "execute_result"
    }
   ],
   "source": [
    "# 34\n",
    "class 자전차(차):\n",
    "    def __init__(self, 바퀴개수, 가격, 이름):\n",
    "        super().__init__(바퀴개수, 가격) # super로 확장\n",
    "        self.구동계 = 이름\n",
    "        \n",
    "bicycle = 자전차(2,100,\"시마노\")\n",
    "bicycle.구동계"
   ]
  },
  {
   "cell_type": "code",
   "execution_count": 91,
   "metadata": {},
   "outputs": [
    {
     "name": "stdout",
     "output_type": "stream",
     "text": [
      "바퀴수 4 \n",
      "가격 1000\n"
     ]
    }
   ],
   "source": [
    "# 35\n",
    "class 자동차(차):\n",
    "    def __init(self, 바퀴개수, 가격):\n",
    "        super().__init__(바퀴개수, 가격)\n",
    "        \n",
    "    def 정보(self):\n",
    "        print(\"바퀴수\", self.바퀴,\"\\n가격\", self.가격)\n",
    "        \n",
    "car = 자동차(4,1000)\n",
    "car.정보()\n",
    "\n"
   ]
  }
 ],
 "metadata": {
  "kernelspec": {
   "display_name": "Python 3",
   "language": "python",
   "name": "python3"
  },
  "language_info": {
   "codemirror_mode": {
    "name": "ipython",
    "version": 3
   },
   "file_extension": ".py",
   "mimetype": "text/x-python",
   "name": "python",
   "nbconvert_exporter": "python",
   "pygments_lexer": "ipython3",
   "version": "3.8.5"
  }
 },
 "nbformat": 4,
 "nbformat_minor": 4
}
